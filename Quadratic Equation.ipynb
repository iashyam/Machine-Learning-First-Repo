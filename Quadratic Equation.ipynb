{
 "cells": [
  {
   "cell_type": "code",
   "execution_count": 1,
   "id": "6c71f2a3-0831-40c2-a8cd-f4fc5d670782",
   "metadata": {},
   "outputs": [
    {
     "name": "stderr",
     "output_type": "stream",
     "text": [
      "2024-01-04 12:11:41.076567: I tensorflow/core/util/port.cc:113] oneDNN custom operations are on. You may see slightly different numerical results due to floating-point round-off errors from different computation orders. To turn them off, set the environment variable `TF_ENABLE_ONEDNN_OPTS=0`.\n",
      "2024-01-04 12:11:41.081031: I external/local_tsl/tsl/cuda/cudart_stub.cc:31] Could not find cuda drivers on your machine, GPU will not be used.\n",
      "2024-01-04 12:11:41.107133: E external/local_xla/xla/stream_executor/cuda/cuda_dnn.cc:9261] Unable to register cuDNN factory: Attempting to register factory for plugin cuDNN when one has already been registered\n",
      "2024-01-04 12:11:41.107170: E external/local_xla/xla/stream_executor/cuda/cuda_fft.cc:607] Unable to register cuFFT factory: Attempting to register factory for plugin cuFFT when one has already been registered\n",
      "2024-01-04 12:11:41.107919: E external/local_xla/xla/stream_executor/cuda/cuda_blas.cc:1515] Unable to register cuBLAS factory: Attempting to register factory for plugin cuBLAS when one has already been registered\n",
      "2024-01-04 12:11:41.112193: I external/local_tsl/tsl/cuda/cudart_stub.cc:31] Could not find cuda drivers on your machine, GPU will not be used.\n",
      "2024-01-04 12:11:41.112722: I tensorflow/core/platform/cpu_feature_guard.cc:182] This TensorFlow binary is optimized to use available CPU instructions in performance-critical operations.\n",
      "To enable the following instructions: AVX2 AVX512F AVX512_VNNI FMA, in other operations, rebuild TensorFlow with the appropriate compiler flags.\n",
      "2024-01-04 12:11:41.875134: W tensorflow/compiler/tf2tensorrt/utils/py_utils.cc:38] TF-TRT Warning: Could not find TensorRT\n"
     ]
    }
   ],
   "source": [
    "import numpy as np\n",
    "import tensorflow as tf\n",
    "from tensorflow import keras\n",
    "from tensorflow.keras.models import Sequential\n",
    "from tensorflow.keras.layers import Activation, Dense, Flatten, BatchNormalization, Conv2D, MaxPool2D\n",
    "from tensorflow.keras.optimizers import Adam, SGD, RMSprop\n",
    "from tensorflow.keras.metrics import categorical_crossentropy\n",
    "from tensorflow.keras.preprocessing.image import ImageDataGenerator\n",
    "from sklearn.metrics import confusion_matrix\n",
    "from sklearn.utils import shuffle\n",
    "from sklearn.preprocessing import MinMaxScaler\n",
    "\n",
    "from tqdm import tqdm\n",
    "\n",
    "import itertools\n",
    "import os\n",
    "import shutil\n",
    "import random\n",
    "import glob\n",
    "import matplotlib.pyplot as plt\n",
    "import warnings\n",
    "warnings.simplefilter(action='ignore', category=FutureWarning)\n",
    "%matplotlib inline"
   ]
  },
  {
   "cell_type": "markdown",
   "id": "ddc17b5c-0ae0-4bd3-8fed-508ec1c8bd9c",
   "metadata": {},
   "source": [
    "# Quadratic Equation Aanalysis with Neural Networks\n",
    "\n",
    "Neural Networks are a great way to analyze mathematical solutions, they provide a shorthand to classical analytical methods and eventually analytical methods to classically hard problems. Now We are starting with a simple system, which is to analyze the Quadratic Equation. \n",
    "\n",
    "## Real vs Complex Solutions:\n",
    "\n",
    "We will start with trainting a neural network to classify whether the equation would have a real or complex solution. For that we will gather a lot of data by hand and then train a neural network over that. \n",
    "\n",
    "Consider a quadratic equation given by \n",
    "\\begin{align}\n",
    "ax^2 + bx + c = 0\n",
    "\\end{align}\n",
    "\n",
    "These $a$ and $b$ are called the _cofficients_ of the equations. Two numbers (real or complex) are called _roots_ of the polynomial if they satisfy the equation.\n",
    "\n",
    "There is a simple rule to determine whether the equation will have real or complex solutions. That is:\n",
    "\n",
    "$$D = b^2 - 4ac$$\n",
    "\n",
    "then if $D\\ge0$ then the equation will have __Real__ solutions if $D<0$ then the equation will have complex solutions. \n",
    "\n",
    "### Making the Neural Network:\n",
    "\n",
    "To train an NN we will do following steps:\n",
    " \n",
    "- Make the data\n",
    "- Preprocess the data\n",
    "- Make the neural network\n",
    "- Compile the network\n",
    "- Train the network\n",
    "- Predict the values\n",
    "\n",
    "#### Step1: Make the Data\n",
    "\n",
    "To make the data we take the rabdom coffs. Not that $a>0$, then we did the the compuation for $D$ for every combination and create the labels for them."
   ]
  },
  {
   "cell_type": "code",
   "execution_count": 2,
   "id": "289bb635-edc0-4568-8f1f-ee830432cb08",
   "metadata": {},
   "outputs": [],
   "source": [
    "N = 30000 #total length of the training set\n",
    "\n",
    "train_samples = np.zeros((N, 3))\n",
    "train_label = np.zeros(N)\n",
    "\n",
    "train_samples[:,0] = np.random.randint(1,6,size=N)\n",
    "train_samples[:,1] = np.random.randint(-10,10,size=N)\n",
    "train_samples[:,2] = np.random.randint(-10,10,size=N)\n",
    "\n",
    "#setting the label according to the condition\n",
    "#0 means real solution, 1 means complex solution,\n",
    "\n",
    "for i in range(N):\n",
    "    a, b, c = train_samples[i]\n",
    "    \n",
    "    D = b**2 - 4*a*c\n",
    "    if D>=0:\n",
    "        train_label[i] = 0\n",
    "    else:\n",
    "        train_label[i] = 1"
   ]
  },
  {
   "cell_type": "markdown",
   "id": "aefda3ae-d15b-46c6-9aba-0d8a7089c488",
   "metadata": {},
   "source": [
    "#### Step 2: Preprocessing the data\n",
    "\n",
    "Now we need to preprocess the data in such a way that it works the best way with the neural network. The first thing we need to do that, we need to scale the samples from $(-10,10)$ to $(0,1)$."
   ]
  },
  {
   "cell_type": "code",
   "execution_count": 3,
   "id": "35f73b88-2f3a-4461-9683-afe16b41d707",
   "metadata": {},
   "outputs": [],
   "source": [
    "train_samples,train_label = shuffle(train_samples, train_label)\n",
    "\n",
    "scaler = MinMaxScaler(feature_range=(0,1))\n",
    "train_samples_rescaled = scaler.fit_transform(train_samples)"
   ]
  },
  {
   "cell_type": "markdown",
   "id": "ee0a2c43-057b-46e3-af66-420a70184e5b",
   "metadata": {},
   "source": [
    "#### Step 3: Making a neural network\n",
    "\n",
    "We will make a four layer Neural Network with the coffs as input. \n",
    "\n",
    "- The input shape is (3,1)\n",
    "- The output shape of 2 being `real` and `complex`"
   ]
  },
  {
   "cell_type": "code",
   "execution_count": 4,
   "id": "a3eb4ed8-5ca4-4073-a70c-c448b0c901c9",
   "metadata": {},
   "outputs": [],
   "source": [
    "model = Sequential()\n",
    "model.add(Dense(16,input_shape=(3,),activation='relu'))\n",
    "model.add(Dense(16,activation='relu'))\n",
    "model.add(Dense(2,activation='softmax'))"
   ]
  },
  {
   "cell_type": "markdown",
   "id": "e78ce23c-5dfc-4f22-ad59-e821d643f32e",
   "metadata": {},
   "source": [
    "#### Step 4: Compiling the network"
   ]
  },
  {
   "cell_type": "code",
   "execution_count": 5,
   "id": "24506eff-0cb9-4914-8023-ea925decc940",
   "metadata": {},
   "outputs": [],
   "source": [
    "train_label_2 = np.zeros((N,2))\n",
    "train_label_2[:,0] = [1 if i==0 else 0 for i in train_label]\n",
    "train_label_2[:,1] = [1 if i==1 else 0 for i in train_label]"
   ]
  },
  {
   "cell_type": "code",
   "execution_count": 6,
   "id": "a67e5f2b-2b6e-4563-a0f5-a5adb0ea93c4",
   "metadata": {},
   "outputs": [],
   "source": [
    "model.compile(optimizer=Adam(learning_rate=1e-4), loss='categorical_crossentropy', metrics=['accuracy'])"
   ]
  },
  {
   "cell_type": "markdown",
   "id": "7b754511-aaf3-4a11-b441-b33e09121a99",
   "metadata": {},
   "source": [
    "#### Step 5: Training the network"
   ]
  },
  {
   "cell_type": "code",
   "execution_count": 7,
   "id": "35fdd19b-b860-40eb-a7c0-01b836b8d0c3",
   "metadata": {},
   "outputs": [
    {
     "name": "stdout",
     "output_type": "stream",
     "text": [
      "Epoch 1/30\n",
      "3000/3000 - 3s - loss: 0.4917 - accuracy: 0.7658 - 3s/epoch - 868us/step\n",
      "Epoch 2/30\n",
      "3000/3000 - 2s - loss: 0.2766 - accuracy: 0.8869 - 2s/epoch - 719us/step\n",
      "Epoch 3/30\n",
      "3000/3000 - 2s - loss: 0.2134 - accuracy: 0.9081 - 2s/epoch - 673us/step\n",
      "Epoch 4/30\n",
      "3000/3000 - 2s - loss: 0.1829 - accuracy: 0.9249 - 2s/epoch - 571us/step\n",
      "Epoch 5/30\n",
      "3000/3000 - 2s - loss: 0.1599 - accuracy: 0.9393 - 2s/epoch - 563us/step\n",
      "Epoch 6/30\n",
      "3000/3000 - 2s - loss: 0.1416 - accuracy: 0.9507 - 2s/epoch - 560us/step\n",
      "Epoch 7/30\n",
      "3000/3000 - 2s - loss: 0.1266 - accuracy: 0.9583 - 2s/epoch - 560us/step\n",
      "Epoch 8/30\n",
      "3000/3000 - 2s - loss: 0.1144 - accuracy: 0.9641 - 2s/epoch - 558us/step\n",
      "Epoch 9/30\n",
      "3000/3000 - 2s - loss: 0.1045 - accuracy: 0.9675 - 2s/epoch - 559us/step\n",
      "Epoch 10/30\n",
      "3000/3000 - 2s - loss: 0.0964 - accuracy: 0.9701 - 2s/epoch - 556us/step\n",
      "Epoch 11/30\n",
      "3000/3000 - 2s - loss: 0.0894 - accuracy: 0.9719 - 2s/epoch - 560us/step\n",
      "Epoch 12/30\n",
      "3000/3000 - 2s - loss: 0.0831 - accuracy: 0.9740 - 2s/epoch - 567us/step\n",
      "Epoch 13/30\n",
      "3000/3000 - 2s - loss: 0.0774 - accuracy: 0.9762 - 2s/epoch - 599us/step\n",
      "Epoch 14/30\n",
      "3000/3000 - 2s - loss: 0.0719 - accuracy: 0.9786 - 2s/epoch - 645us/step\n",
      "Epoch 15/30\n",
      "3000/3000 - 2s - loss: 0.0673 - accuracy: 0.9802 - 2s/epoch - 638us/step\n",
      "Epoch 16/30\n",
      "3000/3000 - 2s - loss: 0.0631 - accuracy: 0.9820 - 2s/epoch - 596us/step\n",
      "Epoch 17/30\n",
      "3000/3000 - 2s - loss: 0.0592 - accuracy: 0.9831 - 2s/epoch - 644us/step\n",
      "Epoch 18/30\n",
      "3000/3000 - 2s - loss: 0.0558 - accuracy: 0.9849 - 2s/epoch - 617us/step\n",
      "Epoch 19/30\n",
      "3000/3000 - 2s - loss: 0.0526 - accuracy: 0.9866 - 2s/epoch - 616us/step\n",
      "Epoch 20/30\n",
      "3000/3000 - 2s - loss: 0.0499 - accuracy: 0.9880 - 2s/epoch - 592us/step\n",
      "Epoch 21/30\n",
      "3000/3000 - 2s - loss: 0.0473 - accuracy: 0.9894 - 2s/epoch - 588us/step\n",
      "Epoch 22/30\n",
      "3000/3000 - 2s - loss: 0.0450 - accuracy: 0.9903 - 2s/epoch - 596us/step\n",
      "Epoch 23/30\n",
      "3000/3000 - 2s - loss: 0.0430 - accuracy: 0.9916 - 2s/epoch - 589us/step\n",
      "Epoch 24/30\n",
      "3000/3000 - 2s - loss: 0.0408 - accuracy: 0.9923 - 2s/epoch - 591us/step\n",
      "Epoch 25/30\n",
      "3000/3000 - 2s - loss: 0.0390 - accuracy: 0.9923 - 2s/epoch - 586us/step\n",
      "Epoch 26/30\n",
      "3000/3000 - 2s - loss: 0.0373 - accuracy: 0.9930 - 2s/epoch - 588us/step\n",
      "Epoch 27/30\n",
      "3000/3000 - 2s - loss: 0.0357 - accuracy: 0.9931 - 2s/epoch - 588us/step\n",
      "Epoch 28/30\n",
      "3000/3000 - 2s - loss: 0.0342 - accuracy: 0.9938 - 2s/epoch - 588us/step\n",
      "Epoch 29/30\n",
      "3000/3000 - 2s - loss: 0.0329 - accuracy: 0.9939 - 2s/epoch - 588us/step\n",
      "Epoch 30/30\n",
      "3000/3000 - 2s - loss: 0.0317 - accuracy: 0.9948 - 2s/epoch - 586us/step\n"
     ]
    },
    {
     "data": {
      "text/plain": [
       "<keras.src.callbacks.History at 0x7ff558475a20>"
      ]
     },
     "execution_count": 7,
     "metadata": {},
     "output_type": "execute_result"
    }
   ],
   "source": [
    "model.fit(x=train_samples_rescaled, y=train_label_2,batch_size=10,shuffle=True,epochs=30,verbose=2)"
   ]
  },
  {
   "cell_type": "code",
   "execution_count": 8,
   "id": "1bdf1b83-7da0-4803-bad6-0596ea9a585b",
   "metadata": {},
   "outputs": [
    {
     "name": "stdout",
     "output_type": "stream",
     "text": [
      "Epoch 1/30\n",
      "2100/2100 - 2s - loss: 0.0303 - accuracy: 0.9950 - val_loss: 0.0310 - val_accuracy: 0.9948 - 2s/epoch - 851us/step\n",
      "Epoch 2/30\n",
      "2100/2100 - 2s - loss: 0.0294 - accuracy: 0.9953 - val_loss: 0.0304 - val_accuracy: 0.9948 - 2s/epoch - 804us/step\n",
      "Epoch 3/30\n",
      "2100/2100 - 2s - loss: 0.0288 - accuracy: 0.9954 - val_loss: 0.0296 - val_accuracy: 0.9948 - 2s/epoch - 812us/step\n",
      "Epoch 4/30\n",
      "2100/2100 - 2s - loss: 0.0279 - accuracy: 0.9954 - val_loss: 0.0293 - val_accuracy: 0.9946 - 2s/epoch - 804us/step\n",
      "Epoch 5/30\n",
      "2100/2100 - 2s - loss: 0.0273 - accuracy: 0.9955 - val_loss: 0.0288 - val_accuracy: 0.9940 - 2s/epoch - 803us/step\n",
      "Epoch 6/30\n",
      "2100/2100 - 2s - loss: 0.0267 - accuracy: 0.9960 - val_loss: 0.0278 - val_accuracy: 0.9933 - 2s/epoch - 818us/step\n",
      "Epoch 7/30\n",
      "2100/2100 - 2s - loss: 0.0259 - accuracy: 0.9958 - val_loss: 0.0278 - val_accuracy: 0.9937 - 2s/epoch - 800us/step\n",
      "Epoch 8/30\n",
      "2100/2100 - 2s - loss: 0.0252 - accuracy: 0.9963 - val_loss: 0.0266 - val_accuracy: 0.9950 - 2s/epoch - 806us/step\n",
      "Epoch 9/30\n",
      "2100/2100 - 2s - loss: 0.0247 - accuracy: 0.9963 - val_loss: 0.0255 - val_accuracy: 0.9962 - 2s/epoch - 807us/step\n",
      "Epoch 10/30\n",
      "2100/2100 - 2s - loss: 0.0241 - accuracy: 0.9965 - val_loss: 0.0248 - val_accuracy: 0.9968 - 2s/epoch - 804us/step\n",
      "Epoch 11/30\n",
      "2100/2100 - 2s - loss: 0.0236 - accuracy: 0.9966 - val_loss: 0.0253 - val_accuracy: 0.9952 - 2s/epoch - 802us/step\n",
      "Epoch 12/30\n",
      "2100/2100 - 2s - loss: 0.0230 - accuracy: 0.9970 - val_loss: 0.0237 - val_accuracy: 0.9970 - 2s/epoch - 798us/step\n",
      "Epoch 13/30\n",
      "2100/2100 - 2s - loss: 0.0225 - accuracy: 0.9967 - val_loss: 0.0235 - val_accuracy: 0.9968 - 2s/epoch - 815us/step\n",
      "Epoch 14/30\n",
      "2100/2100 - 2s - loss: 0.0218 - accuracy: 0.9971 - val_loss: 0.0241 - val_accuracy: 0.9950 - 2s/epoch - 797us/step\n",
      "Epoch 15/30\n",
      "2100/2100 - 2s - loss: 0.0215 - accuracy: 0.9975 - val_loss: 0.0223 - val_accuracy: 0.9979 - 2s/epoch - 803us/step\n",
      "Epoch 16/30\n",
      "2100/2100 - 2s - loss: 0.0210 - accuracy: 0.9977 - val_loss: 0.0222 - val_accuracy: 0.9971 - 2s/epoch - 804us/step\n",
      "Epoch 17/30\n",
      "2100/2100 - 2s - loss: 0.0206 - accuracy: 0.9974 - val_loss: 0.0216 - val_accuracy: 0.9970 - 2s/epoch - 800us/step\n",
      "Epoch 18/30\n",
      "2100/2100 - 2s - loss: 0.0200 - accuracy: 0.9977 - val_loss: 0.0208 - val_accuracy: 0.9980 - 2s/epoch - 808us/step\n",
      "Epoch 19/30\n",
      "2100/2100 - 2s - loss: 0.0196 - accuracy: 0.9977 - val_loss: 0.0204 - val_accuracy: 0.9980 - 2s/epoch - 827us/step\n",
      "Epoch 20/30\n",
      "2100/2100 - 2s - loss: 0.0191 - accuracy: 0.9978 - val_loss: 0.0204 - val_accuracy: 0.9970 - 2s/epoch - 818us/step\n",
      "Epoch 21/30\n",
      "2100/2100 - 2s - loss: 0.0188 - accuracy: 0.9982 - val_loss: 0.0203 - val_accuracy: 0.9981 - 2s/epoch - 820us/step\n",
      "Epoch 22/30\n",
      "2100/2100 - 2s - loss: 0.0184 - accuracy: 0.9980 - val_loss: 0.0194 - val_accuracy: 0.9970 - 2s/epoch - 817us/step\n",
      "Epoch 23/30\n",
      "2100/2100 - 2s - loss: 0.0179 - accuracy: 0.9980 - val_loss: 0.0189 - val_accuracy: 0.9980 - 2s/epoch - 810us/step\n",
      "Epoch 24/30\n",
      "2100/2100 - 2s - loss: 0.0177 - accuracy: 0.9983 - val_loss: 0.0188 - val_accuracy: 0.9988 - 2s/epoch - 814us/step\n",
      "Epoch 25/30\n",
      "2100/2100 - 2s - loss: 0.0173 - accuracy: 0.9984 - val_loss: 0.0184 - val_accuracy: 0.9979 - 2s/epoch - 805us/step\n",
      "Epoch 26/30\n",
      "2100/2100 - 2s - loss: 0.0169 - accuracy: 0.9983 - val_loss: 0.0183 - val_accuracy: 0.9981 - 2s/epoch - 805us/step\n",
      "Epoch 27/30\n",
      "2100/2100 - 2s - loss: 0.0165 - accuracy: 0.9982 - val_loss: 0.0179 - val_accuracy: 0.9970 - 2s/epoch - 812us/step\n",
      "Epoch 28/30\n",
      "2100/2100 - 2s - loss: 0.0163 - accuracy: 0.9985 - val_loss: 0.0176 - val_accuracy: 0.9984 - 2s/epoch - 808us/step\n",
      "Epoch 29/30\n",
      "2100/2100 - 2s - loss: 0.0159 - accuracy: 0.9984 - val_loss: 0.0167 - val_accuracy: 0.9979 - 2s/epoch - 800us/step\n",
      "Epoch 30/30\n",
      "2100/2100 - 2s - loss: 0.0156 - accuracy: 0.9980 - val_loss: 0.0172 - val_accuracy: 0.9970 - 2s/epoch - 811us/step\n"
     ]
    },
    {
     "data": {
      "text/plain": [
       "<keras.src.callbacks.History at 0x7ff5580b3940>"
      ]
     },
     "execution_count": 8,
     "metadata": {},
     "output_type": "execute_result"
    }
   ],
   "source": [
    "model.fit(x=train_samples_rescaled, y=train_label_2,batch_size=10,validation_split=0.3,shuffle=True,epochs=30,verbose=2)"
   ]
  },
  {
   "cell_type": "markdown",
   "id": "d1b37106-05cb-4324-99fe-ead5b6671c92",
   "metadata": {},
   "source": [
    "#### Step 5: Predicting the network by values\n",
    "\n",
    "Prepare the data as same as the training"
   ]
  },
  {
   "cell_type": "markdown",
   "id": "9c9c1d11-b135-4e8d-b987-4a3080bd08c3",
   "metadata": {},
   "source": [
    "#### Is that fine:\n",
    "\n",
    "Yeah I know the results look pretty good when looked from above but does that really work? Let's test with some basic equations:\n",
    "\n",
    "- square root of two $x^2-2=0$: $a=1, b=0, c=-2$, real\n",
    "- Equation for golden ratio: $x^2 -x -1 = 0$, real\n",
    "- Cube roots of unity: $x^2 + x+ 1 = 0$, complex"
   ]
  },
  {
   "cell_type": "code",
   "execution_count": 9,
   "id": "e7bd28ed-63d8-449d-8577-bcc1056683ac",
   "metadata": {},
   "outputs": [
    {
     "name": "stdout",
     "output_type": "stream",
     "text": [
      "[[ 1.  0. -2.]]\n",
      "The roots are real\n",
      "[[1. 0. 1.]]\n",
      "The roots are complex\n",
      "[[1. 1. 1.]]\n",
      "The roots are complex\n",
      "[[ 1. -1. -1.]]\n",
      "The roots are real\n"
     ]
    }
   ],
   "source": [
    "N = 1#total length of the training set\n",
    "\n",
    "def guess_roots(a,b,c):\n",
    "\n",
    "    test_sample = np.zeros((N, 3))\n",
    "    test_label = np.zeros(N)\n",
    "\n",
    "    test_sample[:,0] = a\n",
    "    test_sample[:,1] = b\n",
    "    test_sample[:,2] = c\n",
    "\n",
    "    print(test_sample)\n",
    "\n",
    "    predictions = model.predict(x=test_sample,verbose=0)\n",
    "    predictions_arg = np.argmax(predictions, axis=-1)\n",
    "\n",
    "    if predictions_arg[0] == 0:\n",
    "        print(\"The roots are real\")\n",
    "    else:\n",
    "        print(\"The roots are complex\")\n",
    "        \n",
    "        \n",
    "guess_roots(1,0,-2) #roots of two\n",
    "guess_roots(1,0,1) #iota\n",
    "guess_roots(1,1,1) #cube roots of unity\n",
    "guess_roots(1,-1,-1)#golden ratio"
   ]
  },
  {
   "cell_type": "markdown",
   "id": "991278c0-e4bc-47fe-b9bc-e09409e33596",
   "metadata": {},
   "source": [
    "# Predicting the roots with Neural Networks\n",
    "\n",
    "We would now want to predict the solutions. We will still prepare the date with the same way. Now we would need to handle the complex and real roots saperately. For real roots, $D>0$. Now with that we will get two roots as:\n",
    "\n",
    "$$x_1 = \\frac{-b + \\sqrt D}{2a}, \\quad x_2 = \\frac{-b - \\sqrt D}{2a}$$\n",
    "\n",
    "With complex roots, the imaginary part would not be mixed with the real part so the two solutions would be:\n",
    "\n",
    "$$x_3 = -\\frac{b}{2a} + \\iota \\frac{\\sqrt D}{2a}, \\quad x_4 = -\\frac{b}{2a} - \\iota \\frac{\\sqrt D}{2a}$$\n",
    "\n",
    "The idea is to calculate these two parts saperately:\n",
    "\n",
    "$x_0 = \\frac{-b}{2a}$\n",
    "$x_1 = \\frac{\\sqrt{|D|}}{2a}$\n",
    "\n",
    "and based on above neural net. If the equation has real equations then the roots are $x_0\\pm x_1$ and if the equation has imaginary roots then the roots are: $x_0 + \\iota x_1$\n"
   ]
  },
  {
   "cell_type": "code",
   "execution_count": 25,
   "id": "63e27741-1228-4242-a9b8-c150fe4de928",
   "metadata": {},
   "outputs": [],
   "source": [
    "batch_size = 3000\n",
    "total_batches = 20000\n",
    "\n",
    "\n",
    "def f(x):\n",
    "        a = 1\n",
    "        b = x[0]\n",
    "        c = x[1]\n",
    "        \n",
    "        D = b**2 - 4*a*c\n",
    "        \n",
    "        #real and img part of the solution\n",
    "        return -b/(2*a), np.sqrt(abs(D))/2*a\n",
    "\n",
    "def matke_batches():\n",
    "    \n",
    "    #making free space to store date\n",
    "    train_samples = np.zeros((batch_size,2))\n",
    "    train_label = np.zeros((batch_size,2))\n",
    "    \n",
    "    #the cofficient b, and c are random \n",
    "    train_samples[:,0] = np.random.randint(-10,10,size=batch_size)\n",
    "    train_samples[:,1] = np.random.randint(-10,10,size=batch_size)\n",
    "\n",
    "    \n",
    "    for i in range(batch_size):\n",
    "        train_label[i] = f(train_samples[i])\n",
    "        \n",
    "    train_samples,train_label = shuffle(train_samples, train_label)\n",
    "\n",
    "#     scaler = MinMaxScaler(feature_range=(0,1))\n",
    "#     train_samples = scaler.fit_transform(train_samples)\n",
    "    \n",
    "    return train_samples, train_label"
   ]
  },
  {
   "cell_type": "code",
   "execution_count": 26,
   "id": "526c3429-ea1f-4479-b7f2-ac88e8a34da2",
   "metadata": {},
   "outputs": [],
   "source": [
    "model2 = Sequential()\n",
    "\n",
    "model2.add(Dense(32,input_shape=(2,),activation='relu'))\n",
    "model2.add(Dense(32,activation='relu'))\n",
    "model2.add(Dense(32,activation='relu'))\n",
    "model2.add(Dense(32,activation='relu'))\n",
    "model2.add(Dense(2,activation='linear'))"
   ]
  },
  {
   "cell_type": "code",
   "execution_count": 27,
   "id": "99e073d1-6840-4849-8e68-9d821fac453d",
   "metadata": {},
   "outputs": [],
   "source": [
    "model2.compile(optimizer=Adam(learning_rate=1e-4), loss='mse')"
   ]
  },
  {
   "cell_type": "code",
   "execution_count": 28,
   "id": "f9e8b3a9-bb3b-472f-857a-ff6421b4a7df",
   "metadata": {},
   "outputs": [
    {
     "name": "stderr",
     "output_type": "stream",
     "text": [
      "100%|████████████████████████████████████| 20000/20000 [03:17<00:00, 101.36it/s]\n"
     ]
    }
   ],
   "source": [
    "costs = []\n",
    "plt.style.use('seaborn-v0_8-whitegrid')\n",
    "for i in tqdm(range(total_batches)):\n",
    "    train_sample, train_label = matke_batches()\n",
    "    cost = model2.train_on_batch(x=train_sample,y=train_label)\n",
    "    costs.append(cost)"
   ]
  },
  {
   "cell_type": "code",
   "execution_count": 29,
   "id": "50dad204-7c0b-40d4-828f-0e8b22518346",
   "metadata": {},
   "outputs": [
    {
     "data": {
      "text/plain": [
       "[<matplotlib.lines.Line2D at 0x7ff548f99a80>]"
      ]
     },
     "execution_count": 29,
     "metadata": {},
     "output_type": "execute_result"
    },
    {
     "data": {
      "image/png": "[encoded data removed]",
      "text/plain": [
       "<Figure size 640x480 with 1 Axes>"
      ]
     },
     "metadata": {},
     "output_type": "display_data"
    }
   ],
   "source": [
    "plt.plot(costs)"
   ]
  },
  {
   "cell_type": "code",
   "execution_count": 30,
   "id": "92ea94c9-86b9-4805-81fb-13fa12be2735",
   "metadata": {},
   "outputs": [
    {
     "name": "stdout",
     "output_type": "stream",
     "text": [
      "0.0003303667181171477\n"
     ]
    }
   ],
   "source": [
    "print(cost)"
   ]
  },
  {
   "cell_type": "code",
   "execution_count": 31,
   "id": "382bb036-02dc-4370-93a2-55d1c41dfad1",
   "metadata": {},
   "outputs": [
    {
     "data": {
      "text/plain": [
       "<keras.src.callbacks.History at 0x7ff550f7a5f0>"
      ]
     },
     "execution_count": 31,
     "metadata": {},
     "output_type": "execute_result"
    }
   ],
   "source": [
    "train_samples, train_label = matke_batches()\n",
    "model2.fit(x=train_samples, y=train_label,batch_size=10,validation_split=0.2,shuffle=True,epochs=30,verbose=0)"
   ]
  },
  {
   "cell_type": "code",
   "execution_count": 44,
   "id": "93b4fa39-783c-43b6-8256-54c5efd62468",
   "metadata": {},
   "outputs": [],
   "source": [
    "def guess_roots(a,b,c):\n",
    "    \n",
    "    test_samples = np.zeros((1,3))\n",
    "    test_samples[:,0] = a\n",
    "    test_samples[:,1] = b\n",
    "    test_samples[:,2] = c\n",
    "    \n",
    "    \n",
    "    real_or_complex = np.argmax(model.predict(test_samples))\n",
    "    \n",
    "    test_sample = np.zeros((1, 2))\n",
    "    test_sample[:,0] = b/a\n",
    "    test_sample[:,1] = c/a\n",
    "    a = 1\n",
    "    \n",
    "    x0, x1 = model2.predict(test_sample)[0].round(3)\n",
    "    \n",
    "    if real_or_complex==0:\n",
    "        root0 = x0 + x1\n",
    "        root1 = x0 - x1\n",
    "        \n",
    "        print(\"The roots are: \", root0, 'and', root1)\n",
    "    else:\n",
    "        \n",
    "        print(f'the roots are: {x0 + 1j*x1} and {x0 - 1j*x1}')"
   ]
  },
  {
   "cell_type": "code",
   "execution_count": 45,
   "id": "b4c9422e-580f-479d-af1b-099320886697",
   "metadata": {},
   "outputs": [
    {
     "name": "stdout",
     "output_type": "stream",
     "text": [
      "1/1 [==============================] - 0s 13ms/step\n",
      "1/1 [==============================] - 0s 11ms/step\n",
      "The roots are:  1.581 and -0.633\n"
     ]
    }
   ],
   "source": [
    "guess_roots(1, -1, -1)"
   ]
  },
  {
   "cell_type": "code",
   "execution_count": 46,
   "id": "30df0b3a-8c4e-450e-9a5d-038ecd24485a",
   "metadata": {},
   "outputs": [
    {
     "name": "stdout",
     "output_type": "stream",
     "text": [
      "1/1 [==============================] - 0s 11ms/step\n",
      "1/1 [==============================] - 0s 12ms/step\n",
      "The roots are:  1.415 and -1.415\n",
      "1/1 [==============================] - 0s 17ms/step\n",
      "1/1 [==============================] - 0s 12ms/step\n",
      "the roots are: (0.0020000000949949026+0.996999979019165j) and (0.0020000000949949026-0.996999979019165j)\n",
      "1/1 [==============================] - 0s 12ms/step\n",
      "1/1 [==============================] - 0s 13ms/step\n",
      "the roots are: (-0.5070000290870667+0.8629999756813049j) and (-0.5070000290870667-0.8629999756813049j)\n",
      "1/1 [==============================] - 0s 11ms/step\n",
      "1/1 [==============================] - 0s 12ms/step\n",
      "The roots are:  1.581 and -0.633\n"
     ]
    }
   ],
   "source": [
    "guess_roots(1,0,-2) #roots of two\n",
    "guess_roots(1,0,1) #iota\n",
    "guess_roots(1,1,1) #cube roots of unity\n",
    "guess_roots(1,-1,-1)#golden ratio"
   ]
  },
  {
   "cell_type": "code",
   "execution_count": null,
   "id": "8ce105d1-cb40-4de3-aad2-d4e9ca5130f1",
   "metadata": {},
   "outputs": [],
   "source": []
  }
 ],
 "metadata": {
  "kernelspec": {
   "display_name": "Python 3 (ipykernel)",
   "language": "python",
   "name": "python3"
  },
  "language_info": {
   "codemirror_mode": {
    "name": "ipython",
    "version": 3
   },
   "file_extension": ".py",
   "mimetype": "text/x-python",
   "name": "python",
   "nbconvert_exporter": "python",
   "pygments_lexer": "ipython3",
   "version": "3.10.9"
  }
 },
 "nbformat": 4,
 "nbformat_minor": 5
}
