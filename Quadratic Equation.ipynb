{
 "cells": [
  {
   "cell_type": "code",
   "execution_count": 44,
   "id": "6c71f2a3-0831-40c2-a8cd-f4fc5d670782",
   "metadata": {},
   "outputs": [],
   "source": [
    "import numpy as np\n",
    "import tensorflow as tf\n",
    "from tensorflow import keras\n",
    "from tensorflow.keras.models import Sequential\n",
    "from tensorflow.keras.layers import Activation, Dense, Flatten, BatchNormalization, Conv2D, MaxPool2D\n",
    "from tensorflow.keras.optimizers import Adam, SGD, RMSprop\n",
    "from tensorflow.keras.metrics import categorical_crossentropy\n",
    "from tensorflow.keras.preprocessing.image import ImageDataGenerator\n",
    "from sklearn.metrics import confusion_matrix\n",
    "from sklearn.utils import shuffle\n",
    "from sklearn.preprocessing import MinMaxScaler\n",
    "\n",
    "\n",
    "import itertools\n",
    "import os\n",
    "import shutil\n",
    "import random\n",
    "import glob\n",
    "import matplotlib.pyplot as plt\n",
    "import warnings\n",
    "warnings.simplefilter(action='ignore', category=FutureWarning)\n",
    "%matplotlib inline"
   ]
  },
  {
   "cell_type": "markdown",
   "id": "ddc17b5c-0ae0-4bd3-8fed-508ec1c8bd9c",
   "metadata": {},
   "source": [
    "# Quadratic Equation Aanalysis with Neural Networks\n",
    "\n",
    "Neural Networks are a great way to analyze mathematical solutions, they provide a shorthand to classical analytical methods and eventually analytical methods to classically hard problems. Now We are starting with a simple system, which is to analyze the Quadratic Equation. \n",
    "\n",
    "## Real vs Complex Solutions:\n",
    "\n",
    "We will start with trainting a neural network to classify whether the equation would have a real or complex solution. For that we will gather a lot of data by hand and then train a neural network over that. \n",
    "\n",
    "Consider a quadratic equation given by \n",
    "\\begin{align}\n",
    "ax^2 + bx + c = 0\n",
    "\\end{align}\n",
    "\n",
    "These $a$ and $b$ are called the _cofficients_ of the equations. Two numbers (real or complex) are called _roots_ of the polynomial if they satisfy the equation.\n",
    "\n",
    "There is a simple rule to determine whether the equation will have real or complex solutions. That is:\n",
    "\n",
    "$$D = b^2 - 4ac$$\n",
    "\n",
    "then if $D\\ge0$ then the equation will have __Real__ solutions if $D<0$ then the equation will have complex solutions. \n",
    "\n",
    "### Making the Neural Network:\n",
    "\n",
    "To train an NN we will do following steps:\n",
    " \n",
    "- Make the data\n",
    "- Preprocess the data\n",
    "- Make the neural network\n",
    "- Compile the network\n",
    "- Train the network\n",
    "- Predict the values\n",
    "\n",
    "#### Step1: Make the Data\n",
    "\n",
    "To make the data we take the rabdom coffs. Not that $a>0$, then we did the the compuation for $D$ for every combination and create the labels for them."
   ]
  },
  {
   "cell_type": "code",
   "execution_count": 45,
   "id": "289bb635-edc0-4568-8f1f-ee830432cb08",
   "metadata": {},
   "outputs": [],
   "source": [
    "N = 30000 #total length of the training set\n",
    "\n",
    "train_samples = np.zeros((N, 3))\n",
    "train_label = np.zeros(N)\n",
    "\n",
    "train_samples[:,0] = np.random.randint(1,6,size=N)\n",
    "train_samples[:,1] = np.random.randint(-10,10,size=N)\n",
    "train_samples[:,2] = np.random.randint(-10,10,size=N)\n",
    "\n",
    "#setting the label according to the condition\n",
    "#0 means real solution, 1 means complex solution,\n",
    "\n",
    "for i in range(N):\n",
    "    a, b, c = train_samples[i]\n",
    "    \n",
    "    D = b**2 - 4*a*c\n",
    "    if D>=0:\n",
    "        train_label[i] = 0\n",
    "    else:\n",
    "        train_label[i] = 1"
   ]
  },
  {
   "cell_type": "markdown",
   "id": "aefda3ae-d15b-46c6-9aba-0d8a7089c488",
   "metadata": {},
   "source": [
    "#### Step 2: Preprocessing the data\n",
    "\n",
    "Now we need to preprocess the data in such a way that it works the best way with the neural network. The first thing we need to do that, we need to scale the samples from $(-10,10)$ to $(0,1)$."
   ]
  },
  {
   "cell_type": "code",
   "execution_count": 46,
   "id": "35f73b88-2f3a-4461-9683-afe16b41d707",
   "metadata": {},
   "outputs": [],
   "source": [
    "train_samples,train_label = shuffle(train_samples, train_label)\n",
    "\n",
    "scaler = MinMaxScaler(feature_range=(0,1))\n",
    "train_samples_rescaled = scaler.fit_transform(train_samples)"
   ]
  },
  {
   "cell_type": "markdown",
   "id": "ee0a2c43-057b-46e3-af66-420a70184e5b",
   "metadata": {},
   "source": [
    "#### Step 3: Making a neural network\n",
    "\n",
    "We will make a four layer Neural Network with the coffs as input. \n",
    "\n",
    "- The input shape is (3,1)\n",
    "- The output shape of 2 being `real` and `complex`"
   ]
  },
  {
   "cell_type": "code",
   "execution_count": 47,
   "id": "a3eb4ed8-5ca4-4073-a70c-c448b0c901c9",
   "metadata": {},
   "outputs": [],
   "source": [
    "model = Sequential()\n",
    "\n",
    "model.add(Dense(16,input_shape=(3,),activation='relu'))\n",
    "model.add(Dense(16,activation='relu'))\n",
    "model.add(Dense(2,activation='softmax'))"
   ]
  },
  {
   "cell_type": "markdown",
   "id": "e78ce23c-5dfc-4f22-ad59-e821d643f32e",
   "metadata": {},
   "source": [
    "#### Step 4: Compiling the network"
   ]
  },
  {
   "cell_type": "code",
   "execution_count": 48,
   "id": "24506eff-0cb9-4914-8023-ea925decc940",
   "metadata": {},
   "outputs": [],
   "source": [
    "train_label_2 = np.zeros((N,2))\n",
    "train_label_2[:,0] = [1 if i==0 else 0 for i in train_label]\n",
    "train_label_2[:,1] = [1 if i==1 else 0 for i in train_label]"
   ]
  },
  {
   "cell_type": "code",
   "execution_count": 49,
   "id": "a67e5f2b-2b6e-4563-a0f5-a5adb0ea93c4",
   "metadata": {},
   "outputs": [],
   "source": [
    "model.compile(optimizer=Adam(learning_rate=1e-4), loss='categorical_crossentropy', metrics=['accuracy'])"
   ]
  },
  {
   "cell_type": "markdown",
   "id": "7b754511-aaf3-4a11-b441-b33e09121a99",
   "metadata": {},
   "source": [
    "#### Step 5: Training the network"
   ]
  },
  {
   "cell_type": "code",
   "execution_count": 50,
   "id": "35fdd19b-b860-40eb-a7c0-01b836b8d0c3",
   "metadata": {},
   "outputs": [
    {
     "name": "stdout",
     "output_type": "stream",
     "text": [
      "Epoch 1/30\n",
      "3000/3000 - 2s - loss: 0.5566 - accuracy: 0.7338 - 2s/epoch - 786us/step\n",
      "Epoch 2/30\n",
      "3000/3000 - 2s - loss: 0.3174 - accuracy: 0.8789 - 2s/epoch - 657us/step\n",
      "Epoch 3/30\n",
      "3000/3000 - 2s - loss: 0.2271 - accuracy: 0.9066 - 2s/epoch - 597us/step\n",
      "Epoch 4/30\n",
      "3000/3000 - 2s - loss: 0.1918 - accuracy: 0.9223 - 2s/epoch - 604us/step\n",
      "Epoch 5/30\n",
      "3000/3000 - 2s - loss: 0.1681 - accuracy: 0.9343 - 2s/epoch - 601us/step\n",
      "Epoch 6/30\n",
      "3000/3000 - 2s - loss: 0.1492 - accuracy: 0.9463 - 2s/epoch - 597us/step\n",
      "Epoch 7/30\n",
      "3000/3000 - 2s - loss: 0.1336 - accuracy: 0.9549 - 2s/epoch - 600us/step\n",
      "Epoch 8/30\n",
      "3000/3000 - 2s - loss: 0.1210 - accuracy: 0.9616 - 2s/epoch - 602us/step\n",
      "Epoch 9/30\n",
      "3000/3000 - 2s - loss: 0.1107 - accuracy: 0.9644 - 2s/epoch - 598us/step\n",
      "Epoch 10/30\n",
      "3000/3000 - 2s - loss: 0.1023 - accuracy: 0.9671 - 2s/epoch - 602us/step\n",
      "Epoch 11/30\n",
      "3000/3000 - 2s - loss: 0.0952 - accuracy: 0.9706 - 2s/epoch - 597us/step\n",
      "Epoch 12/30\n",
      "3000/3000 - 2s - loss: 0.0891 - accuracy: 0.9721 - 2s/epoch - 593us/step\n",
      "Epoch 13/30\n",
      "3000/3000 - 2s - loss: 0.0835 - accuracy: 0.9747 - 2s/epoch - 593us/step\n",
      "Epoch 14/30\n",
      "3000/3000 - 2s - loss: 0.0786 - accuracy: 0.9765 - 2s/epoch - 599us/step\n",
      "Epoch 15/30\n",
      "3000/3000 - 2s - loss: 0.0742 - accuracy: 0.9785 - 2s/epoch - 599us/step\n",
      "Epoch 16/30\n",
      "3000/3000 - 2s - loss: 0.0703 - accuracy: 0.9796 - 2s/epoch - 595us/step\n",
      "Epoch 17/30\n",
      "3000/3000 - 2s - loss: 0.0668 - accuracy: 0.9814 - 2s/epoch - 601us/step\n",
      "Epoch 18/30\n",
      "3000/3000 - 2s - loss: 0.0634 - accuracy: 0.9836 - 2s/epoch - 594us/step\n",
      "Epoch 19/30\n",
      "3000/3000 - 2s - loss: 0.0608 - accuracy: 0.9851 - 2s/epoch - 591us/step\n",
      "Epoch 20/30\n",
      "3000/3000 - 2s - loss: 0.0580 - accuracy: 0.9879 - 2s/epoch - 618us/step\n",
      "Epoch 21/30\n",
      "3000/3000 - 2s - loss: 0.0555 - accuracy: 0.9889 - 2s/epoch - 675us/step\n",
      "Epoch 22/30\n",
      "3000/3000 - 2s - loss: 0.0531 - accuracy: 0.9897 - 2s/epoch - 803us/step\n",
      "Epoch 23/30\n",
      "3000/3000 - 2s - loss: 0.0510 - accuracy: 0.9906 - 2s/epoch - 693us/step\n",
      "Epoch 24/30\n",
      "3000/3000 - 2s - loss: 0.0490 - accuracy: 0.9911 - 2s/epoch - 684us/step\n",
      "Epoch 25/30\n",
      "3000/3000 - 2s - loss: 0.0472 - accuracy: 0.9908 - 2s/epoch - 669us/step\n",
      "Epoch 26/30\n",
      "3000/3000 - 3s - loss: 0.0454 - accuracy: 0.9910 - 3s/epoch - 849us/step\n",
      "Epoch 27/30\n",
      "3000/3000 - 2s - loss: 0.0438 - accuracy: 0.9918 - 2s/epoch - 698us/step\n",
      "Epoch 28/30\n",
      "3000/3000 - 2s - loss: 0.0424 - accuracy: 0.9917 - 2s/epoch - 628us/step\n",
      "Epoch 29/30\n",
      "3000/3000 - 2s - loss: 0.0410 - accuracy: 0.9922 - 2s/epoch - 610us/step\n",
      "Epoch 30/30\n",
      "3000/3000 - 2s - loss: 0.0395 - accuracy: 0.9926 - 2s/epoch - 603us/step\n"
     ]
    },
    {
     "data": {
      "text/plain": [
       "<keras.src.callbacks.History at 0x7f188e73eb00>"
      ]
     },
     "execution_count": 50,
     "metadata": {},
     "output_type": "execute_result"
    }
   ],
   "source": [
    "model.fit(x=train_samples_rescaled, y=train_label_2,batch_size=10,shuffle=True,epochs=30,verbose=2)"
   ]
  },
  {
   "cell_type": "code",
   "execution_count": 51,
   "id": "1bdf1b83-7da0-4803-bad6-0596ea9a585b",
   "metadata": {},
   "outputs": [
    {
     "name": "stdout",
     "output_type": "stream",
     "text": [
      "Epoch 1/30\n",
      "2100/2100 - 2s - loss: 0.0378 - accuracy: 0.9927 - val_loss: 0.0401 - val_accuracy: 0.9936 - 2s/epoch - 901us/step\n",
      "Epoch 2/30\n",
      "2100/2100 - 2s - loss: 0.0368 - accuracy: 0.9936 - val_loss: 0.0392 - val_accuracy: 0.9927 - 2s/epoch - 813us/step\n",
      "Epoch 3/30\n",
      "2100/2100 - 2s - loss: 0.0360 - accuracy: 0.9933 - val_loss: 0.0389 - val_accuracy: 0.9941 - 2s/epoch - 900us/step\n",
      "Epoch 4/30\n",
      "2100/2100 - 2s - loss: 0.0351 - accuracy: 0.9937 - val_loss: 0.0378 - val_accuracy: 0.9934 - 2s/epoch - 962us/step\n",
      "Epoch 5/30\n",
      "2100/2100 - 2s - loss: 0.0343 - accuracy: 0.9947 - val_loss: 0.0369 - val_accuracy: 0.9934 - 2s/epoch - 903us/step\n",
      "Epoch 6/30\n",
      "2100/2100 - 2s - loss: 0.0334 - accuracy: 0.9948 - val_loss: 0.0365 - val_accuracy: 0.9936 - 2s/epoch - 880us/step\n",
      "Epoch 7/30\n",
      "2100/2100 - 2s - loss: 0.0327 - accuracy: 0.9950 - val_loss: 0.0351 - val_accuracy: 0.9951 - 2s/epoch - 950us/step\n",
      "Epoch 8/30\n",
      "2100/2100 - 2s - loss: 0.0321 - accuracy: 0.9950 - val_loss: 0.0345 - val_accuracy: 0.9940 - 2s/epoch - 921us/step\n",
      "Epoch 9/30\n",
      "2100/2100 - 2s - loss: 0.0312 - accuracy: 0.9953 - val_loss: 0.0342 - val_accuracy: 0.9929 - 2s/epoch - 1ms/step\n",
      "Epoch 10/30\n",
      "2100/2100 - 2s - loss: 0.0306 - accuracy: 0.9954 - val_loss: 0.0333 - val_accuracy: 0.9936 - 2s/epoch - 990us/step\n",
      "Epoch 11/30\n",
      "2100/2100 - 2s - loss: 0.0299 - accuracy: 0.9955 - val_loss: 0.0327 - val_accuracy: 0.9949 - 2s/epoch - 1ms/step\n",
      "Epoch 12/30\n",
      "2100/2100 - 2s - loss: 0.0294 - accuracy: 0.9959 - val_loss: 0.0321 - val_accuracy: 0.9933 - 2s/epoch - 999us/step\n",
      "Epoch 13/30\n",
      "2100/2100 - 2s - loss: 0.0288 - accuracy: 0.9958 - val_loss: 0.0314 - val_accuracy: 0.9944 - 2s/epoch - 849us/step\n",
      "Epoch 14/30\n",
      "2100/2100 - 2s - loss: 0.0282 - accuracy: 0.9962 - val_loss: 0.0313 - val_accuracy: 0.9944 - 2s/epoch - 929us/step\n",
      "Epoch 15/30\n",
      "2100/2100 - 2s - loss: 0.0276 - accuracy: 0.9963 - val_loss: 0.0307 - val_accuracy: 0.9940 - 2s/epoch - 949us/step\n",
      "Epoch 16/30\n",
      "2100/2100 - 2s - loss: 0.0269 - accuracy: 0.9962 - val_loss: 0.0298 - val_accuracy: 0.9950 - 2s/epoch - 945us/step\n",
      "Epoch 17/30\n",
      "2100/2100 - 2s - loss: 0.0265 - accuracy: 0.9965 - val_loss: 0.0295 - val_accuracy: 0.9946 - 2s/epoch - 834us/step\n",
      "Epoch 18/30\n",
      "2100/2100 - 2s - loss: 0.0259 - accuracy: 0.9968 - val_loss: 0.0289 - val_accuracy: 0.9956 - 2s/epoch - 816us/step\n",
      "Epoch 19/30\n",
      "2100/2100 - 2s - loss: 0.0254 - accuracy: 0.9967 - val_loss: 0.0281 - val_accuracy: 0.9959 - 2s/epoch - 834us/step\n",
      "Epoch 20/30\n",
      "2100/2100 - 2s - loss: 0.0250 - accuracy: 0.9969 - val_loss: 0.0277 - val_accuracy: 0.9953 - 2s/epoch - 845us/step\n",
      "Epoch 21/30\n",
      "2100/2100 - 2s - loss: 0.0245 - accuracy: 0.9969 - val_loss: 0.0271 - val_accuracy: 0.9959 - 2s/epoch - 964us/step\n",
      "Epoch 22/30\n",
      "2100/2100 - 2s - loss: 0.0240 - accuracy: 0.9967 - val_loss: 0.0266 - val_accuracy: 0.9960 - 2s/epoch - 1ms/step\n",
      "Epoch 23/30\n",
      "2100/2100 - 2s - loss: 0.0235 - accuracy: 0.9970 - val_loss: 0.0272 - val_accuracy: 0.9932 - 2s/epoch - 934us/step\n",
      "Epoch 24/30\n",
      "2100/2100 - 2s - loss: 0.0231 - accuracy: 0.9970 - val_loss: 0.0261 - val_accuracy: 0.9944 - 2s/epoch - 955us/step\n",
      "Epoch 25/30\n",
      "2100/2100 - 2s - loss: 0.0226 - accuracy: 0.9972 - val_loss: 0.0255 - val_accuracy: 0.9944 - 2s/epoch - 817us/step\n",
      "Epoch 26/30\n",
      "2100/2100 - 2s - loss: 0.0222 - accuracy: 0.9971 - val_loss: 0.0248 - val_accuracy: 0.9967 - 2s/epoch - 993us/step\n",
      "Epoch 27/30\n",
      "2100/2100 - 2s - loss: 0.0218 - accuracy: 0.9974 - val_loss: 0.0245 - val_accuracy: 0.9964 - 2s/epoch - 889us/step\n",
      "Epoch 28/30\n",
      "2100/2100 - 2s - loss: 0.0215 - accuracy: 0.9975 - val_loss: 0.0240 - val_accuracy: 0.9958 - 2s/epoch - 901us/step\n",
      "Epoch 29/30\n",
      "2100/2100 - 2s - loss: 0.0210 - accuracy: 0.9975 - val_loss: 0.0242 - val_accuracy: 0.9958 - 2s/epoch - 809us/step\n",
      "Epoch 30/30\n",
      "2100/2100 - 2s - loss: 0.0207 - accuracy: 0.9975 - val_loss: 0.0233 - val_accuracy: 0.9964 - 2s/epoch - 817us/step\n"
     ]
    },
    {
     "data": {
      "text/plain": [
       "<keras.src.callbacks.History at 0x7f18c4949ae0>"
      ]
     },
     "execution_count": 51,
     "metadata": {},
     "output_type": "execute_result"
    }
   ],
   "source": [
    "model.fit(x=train_samples_rescaled, y=train_label_2,batch_size=10,validation_split=0.3,shuffle=True,epochs=30,verbose=2)"
   ]
  },
  {
   "cell_type": "markdown",
   "id": "d1b37106-05cb-4324-99fe-ead5b6671c92",
   "metadata": {},
   "source": [
    "#### Step 5: Predicting the network by values\n",
    "\n",
    "Prepare the data as same as the training"
   ]
  },
  {
   "cell_type": "code",
   "execution_count": 48,
   "id": "a68a5b79-7f51-4d15-918d-994f1d6ef0db",
   "metadata": {},
   "outputs": [],
   "source": [
    "N = 3 #total length of the training set\n",
    "\n",
    "test_samples = np.zeros((N, 3))\n",
    "test_label = np.zeros(N)\n",
    "\n",
    "test_samples[:,0] = np.random.randint(1,6,size=N)\n",
    "test_samples[:,1] = np.random.randint(-10,10,size=N)\n",
    "test_samples[:,2] = np.random.randint(-10,10,size=N)\n",
    "\n",
    "#setting the label according to the condition\n",
    "#0 means real solution, 1 means complex solution\n",
    "\n",
    "for i in range(N):\n",
    "    a, b, c = test_samples[i]\n",
    "    \n",
    "    D = b**2 - 4*a*c\n",
    "    if D>=0:\n",
    "        test_label[i] = 0\n",
    "    else:\n",
    "        test_label[i] = 1\n",
    "        \n",
    "##### Preprocess the data also the same way as training\n",
    "\n",
    "test_samples,test_label = shuffle(test_samples, test_label)\n",
    "\n",
    "scaler = MinMaxScaler(feature_range=(0,1))\n",
    "test_samples_rescaled = scaler.fit_transform(test_samples)"
   ]
  },
  {
   "cell_type": "code",
   "execution_count": 10,
   "id": "c9af0fb0-0b61-4a7b-9f9c-1ef540471057",
   "metadata": {},
   "outputs": [],
   "source": [
    "predictions = model.predict(x=test_samples_rescaled,batch_size=10, verbose=0)"
   ]
  },
  {
   "cell_type": "code",
   "execution_count": 11,
   "id": "d9c50c3a-bf50-4444-9af4-4f0701d156ff",
   "metadata": {},
   "outputs": [],
   "source": [
    "predictions_arg = np.argmax(predictions, axis=-1)"
   ]
  },
  {
   "cell_type": "code",
   "execution_count": 12,
   "id": "74b7f0c3-7052-4789-8af2-6b7d63d81f4d",
   "metadata": {},
   "outputs": [
    {
     "data": {
      "text/plain": [
       "array([0, 1, 0, ..., 0, 0, 0])"
      ]
     },
     "execution_count": 12,
     "metadata": {},
     "output_type": "execute_result"
    }
   ],
   "source": [
    "predictions_arg"
   ]
  },
  {
   "cell_type": "code",
   "execution_count": 13,
   "id": "addc83a9-7fc1-4130-b33d-000d3070320b",
   "metadata": {},
   "outputs": [],
   "source": [
    "def plot_confusion_matrix(cm, classes,\n",
    "                        normalize=False,\n",
    "                        title='Confusion matrix',\n",
    "                        cmap=plt.cm.Blues):\n",
    "    \"\"\"\n",
    "    This function prints and plots the confusion matrix.\n",
    "    Normalization can be applied by setting `normalize=True`.\n",
    "    \"\"\"\n",
    "    plt.imshow(cm, interpolation='nearest', cmap=cmap)\n",
    "    plt.title(title)\n",
    "    plt.colorbar()\n",
    "    tick_marks = np.arange(len(classes))\n",
    "    plt.xticks(tick_marks, classes, rotation=45)\n",
    "    plt.yticks(tick_marks, classes)\n",
    "\n",
    "    if normalize:\n",
    "        cm = cm.astype('float') / cm.sum(axis=1)[:, np.newaxis]\n",
    "        print(\"Normalized confusion matrix\")\n",
    "    else:\n",
    "        print('Confusion matrix, without normalization')\n",
    "\n",
    "    print(cm)\n",
    "\n",
    "    thresh = cm.max() / 2.\n",
    "    for i, j in itertools.product(range(cm.shape[0]), range(cm.shape[1])):\n",
    "        plt.text(j, i, cm[i, j],\n",
    "            horizontalalignment=\"center\",\n",
    "            color=\"white\" if cm[i, j] > thresh else \"black\")\n",
    "\n",
    "    plt.tight_layout()\n",
    "    plt.ylabel('True label')\n",
    "    plt.xlabel('Predicted label')"
   ]
  },
  {
   "cell_type": "code",
   "execution_count": 14,
   "id": "94fb5d75-110f-48d9-8e80-82de69e1941f",
   "metadata": {},
   "outputs": [],
   "source": [
    "cm_plot_labels = ['real','complex']"
   ]
  },
  {
   "cell_type": "code",
   "execution_count": 15,
   "id": "014f4663-1477-4d8f-b986-17e013ff93e0",
   "metadata": {},
   "outputs": [
    {
     "name": "stdout",
     "output_type": "stream",
     "text": [
      "Confusion matrix, without normalization\n",
      "[[2058   16]\n",
      " [   0  926]]\n"
     ]
    },
    {
     "data": {
      "image/png": "[encoded data removed]",
      "text/plain": [
       "<Figure size 640x480 with 2 Axes>"
      ]
     },
     "metadata": {},
     "output_type": "display_data"
    }
   ],
   "source": [
    "cm = confusion_matrix(y_true=test_label, y_pred=predictions_arg)\n",
    "plot_confusion_matrix(cm=cm, classes=cm_plot_labels, title='Confusion Matrix');"
   ]
  },
  {
   "cell_type": "markdown",
   "id": "9c9c1d11-b135-4e8d-b987-4a3080bd08c3",
   "metadata": {},
   "source": [
    "#### Is that fine:\n",
    "\n",
    "Yeah I know the results look pretty good when looked from above but does that really work? Let's test with some basic equations:\n",
    "\n",
    "- square root of two $x^2-2=0$: $a=1, b=0, c=-2$, real\n",
    "- Equation for golden ratio: $x^2 -x -1 = 0$, real\n",
    "- Cube roots of unity: $x^2 + x+ 1 = 0$, complex"
   ]
  },
  {
   "cell_type": "code",
   "execution_count": 43,
   "id": "e7bd28ed-63d8-449d-8577-bcc1056683ac",
   "metadata": {},
   "outputs": [
    {
     "name": "stdout",
     "output_type": "stream",
     "text": [
      "[[ 1.  0. -2.]]\n",
      "The roots are real\n",
      "[[1. 0. 1.]]\n",
      "The roots are complex\n",
      "[[1. 1. 1.]]\n",
      "The roots are complex\n",
      "[[ 1. -1. -1.]]\n",
      "The roots are real\n"
     ]
    }
   ],
   "source": [
    "N = 1#total length of the training set\n",
    "\n",
    "def guess_roots(a,b,c):\n",
    "\n",
    "    test_sample = np.zeros((N, 3))\n",
    "    test_label = np.zeros(N)\n",
    "\n",
    "    test_sample[:,0] = a\n",
    "    test_sample[:,1] = b\n",
    "    test_sample[:,2] = c\n",
    "\n",
    "    print(test_sample)\n",
    "\n",
    "    predictions = model.predict(x=test_sample,verbose=0)\n",
    "    predictions_arg = np.argmax(predictions, axis=-1)\n",
    "\n",
    "    if predictions_arg[0] == 0:\n",
    "        print(\"The roots are real\")\n",
    "    else:\n",
    "        print(\"The roots are complex\")\n",
    "        \n",
    "        \n",
    "guess_roots(1,0,-2) #roots of two\n",
    "guess_roots(1,0,1) #iota\n",
    "guess_roots(1,1,1) #cube roots of unity\n",
    "guess_roots(1,-1,-1)#golden ratio"
   ]
  },
  {
   "cell_type": "markdown",
   "id": "991278c0-e4bc-47fe-b9bc-e09409e33596",
   "metadata": {},
   "source": [
    "# Predicting the roots with Neural Networks\n",
    "\n",
    "We would now want to predict the solutions. We will still prepare the date with the same way. Now we would need to handle the complex and real roots saperately. For real roots, $D>0$. Now with that we will get two roots as:\n",
    "\n",
    "$$x_1 = \\frac{-b + \\sqrt D}{2a}, \\quad x_2 = \\frac{-b - \\sqrt D}{2a}$$\n",
    "\n",
    "With complex roots, the imaginary part would not be mixed with the real part so the two solutions would be:\n",
    "\n",
    "$$x_3 = -\\frac{b}{2a} + \\iota \\frac{\\sqrt D}{2a}, \\quad x_4 = -\\frac{b}{2a} - \\iota \\frac{\\sqrt D}{2a}$$\n",
    "\n",
    "For the real part the two roots would be different(could be same if $D =0$), so we need to predict them saperately. But for the two complex parts, they are compelx conjugates of each other. So for them, we need to calculate real and imagninary part saperately. So the output neurons would be like those:\n",
    "- $x_1 = \\dfrac{-b + \\sqrt D}{2a}$\n",
    "- $x_2 = \\dfrac{-b - \\sqrt D}{2a}$\n",
    "- $x_3 = -\\dfrac{b}{2a}$\n",
    "- $x_4 = \\dfrac{\\sqrt D}{2a}$\n",
    "\n",
    "So if the equation has real solutions then the solutions would simply be $x_1$ and $x_2$ and if the equation has complex solutions then the solutions would be $x_3 + \\iota x_4$ and $x_3 - \\iota x_4$"
   ]
  },
  {
   "cell_type": "code",
   "execution_count": 52,
   "id": "63e27741-1228-4242-a9b8-c150fe4de928",
   "metadata": {},
   "outputs": [],
   "source": [
    "N = 30000 #total length of the training set\n",
    "\n",
    "train_samples = np.zeros((N,2))\n",
    "train_label = np.zeros((N,2))\n",
    "\n",
    "train_samples[:,0] = np.random.randint(-10,10,size=N)\n",
    "train_samples[:,1] = np.random.randint(-10,10,size=N)\n",
    "\n",
    "def f(x):\n",
    "    a = 1\n",
    "    b = x[0]\n",
    "    c = x[1]\n",
    "    \n",
    "    D = b**2 - 4*a*c\n",
    "    \n",
    "    return -b/(2*a), np.sqrt(abs(D)/2*a)\n",
    "\n",
    "\n",
    "for i in range(N):\n",
    "    train_label[i] = f(train_samples[i])"
   ]
  },
  {
   "cell_type": "code",
   "execution_count": 53,
   "id": "f5abb8b8-1e68-45de-8b11-436cda71995b",
   "metadata": {},
   "outputs": [],
   "source": [
    "train_samples,train_label = shuffle(train_samples, train_label)\n",
    "\n",
    "scaler = MinMaxScaler(feature_range=(0,1))\n",
    "train_samples_rescaled = scaler.fit_transform(train_samples)"
   ]
  },
  {
   "cell_type": "code",
   "execution_count": 91,
   "id": "526c3429-ea1f-4479-b7f2-ac88e8a34da2",
   "metadata": {},
   "outputs": [],
   "source": [
    "model2 = Sequential()\n",
    "\n",
    "model2.add(Dense(100,input_shape=(2,),activation='sigmoid'))\n",
    "model2.add(Dense(100,activation='sigmoid'))\n",
    "model2.add(Dense(100,activation='sigmoid'))\n",
    "model2.add(Dense(100,activation='sigmoid'))\n",
    "model2.add(Dense(2,activation='linear'))"
   ]
  },
  {
   "cell_type": "code",
   "execution_count": 92,
   "id": "99e073d1-6840-4849-8e68-9d821fac453d",
   "metadata": {},
   "outputs": [],
   "source": [
    "model2.compile(optimizer=Adam(learning_rate=1e-4), loss='mse')"
   ]
  },
  {
   "cell_type": "code",
   "execution_count": 93,
   "id": "382bb036-02dc-4370-93a2-55d1c41dfad1",
   "metadata": {},
   "outputs": [
    {
     "name": "stdout",
     "output_type": "stream",
     "text": [
      "Epoch 1/30\n",
      "3000/3000 [==============================] - 3s 827us/step - loss: 5.9495\n",
      "Epoch 2/30\n",
      "3000/3000 [==============================] - 2s 825us/step - loss: 3.8048\n",
      "Epoch 3/30\n",
      "3000/3000 [==============================] - 3s 892us/step - loss: 1.1376\n",
      "Epoch 4/30\n",
      "3000/3000 [==============================] - 2s 762us/step - loss: 0.7667\n",
      "Epoch 5/30\n",
      "3000/3000 [==============================] - 3s 940us/step - loss: 0.6021\n",
      "Epoch 6/30\n",
      "3000/3000 [==============================] - 3s 984us/step - loss: 0.3968\n",
      "Epoch 7/30\n",
      "3000/3000 [==============================] - 3s 881us/step - loss: 0.3310\n",
      "Epoch 8/30\n",
      "3000/3000 [==============================] - 3s 1ms/step - loss: 0.2980\n",
      "Epoch 9/30\n",
      "3000/3000 [==============================] - 3s 1ms/step - loss: 0.2799\n",
      "Epoch 10/30\n",
      "3000/3000 [==============================] - 3s 1ms/step - loss: 0.2639\n",
      "Epoch 11/30\n",
      "3000/3000 [==============================] - 3s 927us/step - loss: 0.2424\n",
      "Epoch 12/30\n",
      "3000/3000 [==============================] - 3s 886us/step - loss: 0.2124\n",
      "Epoch 13/30\n",
      "3000/3000 [==============================] - 3s 911us/step - loss: 0.1750\n",
      "Epoch 14/30\n",
      "3000/3000 [==============================] - 3s 995us/step - loss: 0.1223\n",
      "Epoch 15/30\n",
      "3000/3000 [==============================] - 2s 771us/step - loss: 0.0637\n",
      "Epoch 16/30\n",
      "3000/3000 [==============================] - 2s 765us/step - loss: 0.0385\n",
      "Epoch 17/30\n",
      "3000/3000 [==============================] - 2s 762us/step - loss: 0.0298\n",
      "Epoch 18/30\n",
      "3000/3000 [==============================] - 2s 752us/step - loss: 0.0252\n",
      "Epoch 19/30\n",
      "3000/3000 [==============================] - 2s 760us/step - loss: 0.0223\n",
      "Epoch 20/30\n",
      "3000/3000 [==============================] - 2s 764us/step - loss: 0.0200\n",
      "Epoch 21/30\n",
      "3000/3000 [==============================] - 2s 767us/step - loss: 0.0184\n",
      "Epoch 22/30\n",
      "3000/3000 [==============================] - 2s 752us/step - loss: 0.0170\n",
      "Epoch 23/30\n",
      "3000/3000 [==============================] - 2s 757us/step - loss: 0.0160\n",
      "Epoch 24/30\n",
      "3000/3000 [==============================] - 2s 756us/step - loss: 0.0150\n",
      "Epoch 25/30\n",
      "3000/3000 [==============================] - 2s 759us/step - loss: 0.0142\n",
      "Epoch 26/30\n",
      "3000/3000 [==============================] - 2s 755us/step - loss: 0.0134\n",
      "Epoch 27/30\n",
      "3000/3000 [==============================] - 2s 766us/step - loss: 0.0127\n",
      "Epoch 28/30\n",
      "3000/3000 [==============================] - 2s 779us/step - loss: 0.0121\n",
      "Epoch 29/30\n",
      "3000/3000 [==============================] - 3s 979us/step - loss: 0.0115\n",
      "Epoch 30/30\n",
      "3000/3000 [==============================] - 3s 1ms/step - loss: 0.0110\n"
     ]
    },
    {
     "data": {
      "text/plain": [
       "<keras.src.callbacks.History at 0x7f188d6b06a0>"
      ]
     },
     "execution_count": 93,
     "metadata": {},
     "output_type": "execute_result"
    }
   ],
   "source": [
    "model2.fit(x=train_samples_rescaled, y=train_label,batch_size=10,shuffle=True,epochs=30)"
   ]
  },
  {
   "cell_type": "code",
   "execution_count": 94,
   "id": "a385e770-3229-4bca-831b-521f98620b98",
   "metadata": {},
   "outputs": [
    {
     "name": "stdout",
     "output_type": "stream",
     "text": [
      "Epoch 1/50\n",
      "2400/2400 [==============================] - 3s 1ms/step - loss: 0.0107 - val_loss: 0.0103\n",
      "Epoch 2/50\n",
      "2400/2400 [==============================] - 3s 1ms/step - loss: 0.0105 - val_loss: 0.0097\n",
      "Epoch 3/50\n",
      "2400/2400 [==============================] - 3s 1ms/step - loss: 0.0101 - val_loss: 0.0088\n",
      "Epoch 4/50\n",
      "2400/2400 [==============================] - 2s 974us/step - loss: 0.0097 - val_loss: 0.0086\n",
      "Epoch 5/50\n",
      "2400/2400 [==============================] - 3s 1ms/step - loss: 0.0094 - val_loss: 0.0084\n",
      "Epoch 6/50\n",
      "2400/2400 [==============================] - 2s 982us/step - loss: 0.0091 - val_loss: 0.0080\n",
      "Epoch 7/50\n",
      "2400/2400 [==============================] - 2s 979us/step - loss: 0.0089 - val_loss: 0.0081\n",
      "Epoch 8/50\n",
      "2400/2400 [==============================] - 2s 975us/step - loss: 0.0086 - val_loss: 0.0077\n",
      "Epoch 9/50\n",
      "2400/2400 [==============================] - 2s 946us/step - loss: 0.0084 - val_loss: 0.0076\n",
      "Epoch 10/50\n",
      "2400/2400 [==============================] - 2s 941us/step - loss: 0.0081 - val_loss: 0.0070\n",
      "Epoch 11/50\n",
      "2400/2400 [==============================] - 2s 1ms/step - loss: 0.0079 - val_loss: 0.0074\n",
      "Epoch 12/50\n",
      "2400/2400 [==============================] - 2s 950us/step - loss: 0.0076 - val_loss: 0.0068\n",
      "Epoch 13/50\n",
      "2400/2400 [==============================] - 2s 951us/step - loss: 0.0074 - val_loss: 0.0065\n",
      "Epoch 14/50\n",
      "2400/2400 [==============================] - 2s 908us/step - loss: 0.0072 - val_loss: 0.0063\n",
      "Epoch 15/50\n",
      "2400/2400 [==============================] - 2s 998us/step - loss: 0.0070 - val_loss: 0.0073\n",
      "Epoch 16/50\n",
      "2400/2400 [==============================] - 3s 1ms/step - loss: 0.0068 - val_loss: 0.0063\n",
      "Epoch 17/50\n",
      "2400/2400 [==============================] - 2s 997us/step - loss: 0.0067 - val_loss: 0.0060\n",
      "Epoch 18/50\n",
      "2400/2400 [==============================] - 2s 944us/step - loss: 0.0065 - val_loss: 0.0058\n",
      "Epoch 19/50\n",
      "2400/2400 [==============================] - 2s 938us/step - loss: 0.0063 - val_loss: 0.0055\n",
      "Epoch 20/50\n",
      "2400/2400 [==============================] - 2s 976us/step - loss: 0.0062 - val_loss: 0.0066\n",
      "Epoch 21/50\n",
      "2400/2400 [==============================] - 2s 966us/step - loss: 0.0061 - val_loss: 0.0052\n",
      "Epoch 22/50\n",
      "2400/2400 [==============================] - 2s 980us/step - loss: 0.0059 - val_loss: 0.0052\n",
      "Epoch 23/50\n",
      "2400/2400 [==============================] - 2s 948us/step - loss: 0.0058 - val_loss: 0.0053\n",
      "Epoch 24/50\n",
      "2400/2400 [==============================] - 2s 952us/step - loss: 0.0056 - val_loss: 0.0051\n",
      "Epoch 25/50\n",
      "2400/2400 [==============================] - 2s 967us/step - loss: 0.0055 - val_loss: 0.0050\n",
      "Epoch 26/50\n",
      "2400/2400 [==============================] - 2s 986us/step - loss: 0.0055 - val_loss: 0.0047\n",
      "Epoch 27/50\n",
      "2400/2400 [==============================] - 2s 978us/step - loss: 0.0054 - val_loss: 0.0060\n",
      "Epoch 28/50\n",
      "2400/2400 [==============================] - 2s 915us/step - loss: 0.0052 - val_loss: 0.0049\n",
      "Epoch 29/50\n",
      "2400/2400 [==============================] - 2s 907us/step - loss: 0.0051 - val_loss: 0.0047\n",
      "Epoch 30/50\n",
      "2400/2400 [==============================] - 2s 940us/step - loss: 0.0051 - val_loss: 0.0047\n",
      "Epoch 31/50\n",
      "2400/2400 [==============================] - 2s 997us/step - loss: 0.0050 - val_loss: 0.0053\n",
      "Epoch 32/50\n",
      "2400/2400 [==============================] - 2s 1ms/step - loss: 0.0048 - val_loss: 0.0047\n",
      "Epoch 33/50\n",
      "2400/2400 [==============================] - 2s 996us/step - loss: 0.0048 - val_loss: 0.0041\n",
      "Epoch 34/50\n",
      "2400/2400 [==============================] - 2s 981us/step - loss: 0.0047 - val_loss: 0.0043\n",
      "Epoch 35/50\n",
      "2400/2400 [==============================] - 2s 957us/step - loss: 0.0046 - val_loss: 0.0040\n",
      "Epoch 36/50\n",
      "2400/2400 [==============================] - 2s 998us/step - loss: 0.0046 - val_loss: 0.0042\n",
      "Epoch 37/50\n",
      "2400/2400 [==============================] - 2s 1ms/step - loss: 0.0045 - val_loss: 0.0041\n",
      "Epoch 38/50\n",
      "2400/2400 [==============================] - 2s 964us/step - loss: 0.0044 - val_loss: 0.0046\n",
      "Epoch 39/50\n",
      "2400/2400 [==============================] - 2s 965us/step - loss: 0.0043 - val_loss: 0.0039\n",
      "Epoch 40/50\n",
      "2400/2400 [==============================] - 2s 973us/step - loss: 0.0042 - val_loss: 0.0036\n",
      "Epoch 41/50\n",
      "2400/2400 [==============================] - 2s 954us/step - loss: 0.0042 - val_loss: 0.0036\n",
      "Epoch 42/50\n",
      "2400/2400 [==============================] - 2s 960us/step - loss: 0.0041 - val_loss: 0.0050\n",
      "Epoch 43/50\n",
      "2400/2400 [==============================] - 3s 1ms/step - loss: 0.0040 - val_loss: 0.0041\n",
      "Epoch 44/50\n",
      "2400/2400 [==============================] - 2s 972us/step - loss: 0.0040 - val_loss: 0.0035\n",
      "Epoch 45/50\n",
      "2400/2400 [==============================] - 2s 966us/step - loss: 0.0039 - val_loss: 0.0034\n",
      "Epoch 46/50\n",
      "2400/2400 [==============================] - 2s 895us/step - loss: 0.0039 - val_loss: 0.0038\n",
      "Epoch 47/50\n",
      "2400/2400 [==============================] - 2s 998us/step - loss: 0.0038 - val_loss: 0.0037\n",
      "Epoch 48/50\n",
      "2400/2400 [==============================] - 2s 930us/step - loss: 0.0038 - val_loss: 0.0035\n",
      "Epoch 49/50\n",
      "2400/2400 [==============================] - 2s 917us/step - loss: 0.0037 - val_loss: 0.0033\n",
      "Epoch 50/50\n",
      "2400/2400 [==============================] - 2s 907us/step - loss: 0.0037 - val_loss: 0.0031\n"
     ]
    },
    {
     "data": {
      "text/plain": [
       "<keras.src.callbacks.History at 0x7f188d497bb0>"
      ]
     },
     "execution_count": 94,
     "metadata": {},
     "output_type": "execute_result"
    }
   ],
   "source": [
    "model2.fit(x=train_samples_rescaled, y=train_label,batch_size=10,validation_split=0.2,shuffle=True,epochs=50,verbose=1)"
   ]
  },
  {
   "cell_type": "code",
   "execution_count": 104,
   "id": "93b4fa39-783c-43b6-8256-54c5efd62468",
   "metadata": {},
   "outputs": [],
   "source": [
    "def guess_roots(a,b,c):\n",
    "\n",
    "    test_sample = np.zeros((1, 2))\n",
    "\n",
    "    test_sample[:,0] = b/a\n",
    "    test_sample[:,1] = c/a\n",
    "    a = 1\n",
    "\n",
    "    print(test_sample)\n",
    "    \n",
    "    print(f(test_sample[0]))\n",
    "    print(model2.predict(test_sample))\n",
    "    \n",
    "    "
   ]
  },
  {
   "cell_type": "code",
   "execution_count": 106,
   "id": "b4c9422e-580f-479d-af1b-099320886697",
   "metadata": {},
   "outputs": [
    {
     "name": "stdout",
     "output_type": "stream",
     "text": [
      "[[ 0. -1.]]\n",
      "(-0.0, 1.4142135623730951)\n",
      "1/1 [==============================] - 0s 14ms/step\n",
      "[[4.15878  8.886179]]\n"
     ]
    }
   ],
   "source": [
    "guess_roots(1,0,-1)"
   ]
  },
  {
   "cell_type": "code",
   "execution_count": null,
   "id": "815c3b3c-76cc-4f84-9802-e79ea2fe196c",
   "metadata": {},
   "outputs": [],
   "source": [
    "f()"
   ]
  }
 ],
 "metadata": {
  "kernelspec": {
   "display_name": "Python 3 (ipykernel)",
   "language": "python",
   "name": "python3"
  },
  "language_info": {
   "codemirror_mode": {
    "name": "ipython",
    "version": 3
   },
   "file_extension": ".py",
   "mimetype": "text/x-python",
   "name": "python",
   "nbconvert_exporter": "python",
   "pygments_lexer": "ipython3",
   "version": "3.10.9"
  }
 },
 "nbformat": 4,
 "nbformat_minor": 5
}
