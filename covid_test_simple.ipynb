{
 "cells": [
  {
   "cell_type": "code",
   "execution_count": 2,
   "id": "a7e36fad-51bd-4e57-9cbd-821b86c105ba",
   "metadata": {},
   "outputs": [],
   "source": [
    "import numpy as np\n",
    "import matplotlib.pyplot as plt\n",
    "\n",
    "from sklearn.utils import shuffle\n",
    "from sklearn.preprocessing import MinMaxScaler\n",
    "from random import random\n",
    "\n",
    "from tensorflow.keras.models import Sequential\n",
    "from tensorflow.keras.layers import Dense\n",
    "from tensorflow.keras.optimizers import SGD, Adam\n",
    "from tensorflow.keras.metrics import mean_squared_error, categorical_crossentropy\n",
    "\n",
    "from sklearn.metrics import confusion_matrix\n",
    "import itertools"
   ]
  },
  {
   "cell_type": "markdown",
   "id": "52135b47-e652-4ddd-bc44-e499294c6dcd",
   "metadata": {
    "tags": []
   },
   "source": [
    "## Step 1: Making the data:\n",
    "\n",
    "Take this following hypotheical covid test:\n",
    "\n",
    "- $10\\%$ people who took the test between the age $13$ to $60$ were found positive. \n",
    "- $90\\%$ people who took the test between the age $60$ to $100$ were found postive. \n",
    "- All other people were found negative. \n",
    "\n",
    "Let's say we tested about a thousand people."
   ]
  },
  {
   "cell_type": "code",
   "execution_count": 3,
   "id": "67455ab1-f6d0-4b8e-9d96-4c386aa21041",
   "metadata": {},
   "outputs": [],
   "source": [
    "#creating a list of \n",
    "train_label = [] #whether it's +ve or -ve\n",
    "train_sample = [] #age\n",
    "\n",
    "N = 3000 #total number of tests\n",
    "for i in range(N//10):\n",
    "    sample_age = np.random.randint(13, 100)\n",
    "    train_sample.append(sample_age)    \n",
    "    if sample_age<60:\n",
    "        rand = random()\n",
    "        if rand<0.1:\n",
    "            train_label.append(1)\n",
    "        else:\n",
    "            train_label.append(0)\n",
    "    elif sample_age>=60:\n",
    "        rand = random()\n",
    "        if rand<0.9:\n",
    "            train_label.append(1)\n",
    "        else:\n",
    "            train_label.append(0)\n",
    "\n",
    "train_label = np.array(train_label)\n",
    "train_sample = np.array(train_sample)"
   ]
  },
  {
   "cell_type": "markdown",
   "id": "1ed83659-ae23-403e-9389-f99516cae45d",
   "metadata": {
    "tags": []
   },
   "source": [
    "## Step 2: Data Processing\n",
    "\n",
    "- First we shuffle both the datas.\n",
    "- Scikit learn's fucntion `MaxMinScaler` will renormalise the data from $[13,100]$ to $[0,1]$."
   ]
  },
  {
   "cell_type": "code",
   "execution_count": 4,
   "id": "e30b29c8-7977-452f-9d15-8db27f1d52ee",
   "metadata": {},
   "outputs": [],
   "source": [
    "# shuffle\n",
    "train_label, train_sample = shuffle(train_label, train_sample)\n",
    "\n",
    "#rescale the data\n",
    "scaler = MinMaxScaler(feature_range=(0,1))\n",
    "train_sample_scaled = scaler.fit_transform(train_sample.reshape(-1,1))"
   ]
  },
  {
   "cell_type": "markdown",
   "id": "3055d41f-96e7-491b-b4e5-cf8fd938d741",
   "metadata": {},
   "source": [
    "## Step 3: Create an artificial Neural Network\n",
    "\n",
    "- We will make a `Sequential` neural network, which means that it is layer by layer NN.\n",
    "- We will have two hiddern `Dense` layers, Dense meaning that all the neurons are connected to all the neurons of the previous layers. \n",
    "- Input size is `(1,0)` as we have one feature, which is the age, and output is 2, the probability of being +ve and -ve respectively."
   ]
  },
  {
   "cell_type": "code",
   "execution_count": 5,
   "id": "7ecd2182-81c8-4f56-8676-1f62957bdbba",
   "metadata": {},
   "outputs": [],
   "source": [
    "#create a sequential NN\n",
    "\n",
    "#creating the layers\n",
    "layer1 = Dense(16, input_shape=(1,), activation='relu')\n",
    "layer2 = Dense(32, activation='relu')\n",
    "layer3 = Dense(2, activation='softmax')\n",
    "\n",
    "#creating the model\n",
    "Model = Sequential([layer1, layer2, layer3])"
   ]
  },
  {
   "cell_type": "markdown",
   "id": "a4b71ecf-d285-476b-8ce1-2eb0ce83278b",
   "metadata": {},
   "source": [
    "## Step3: Compiling the Network\n",
    "\n",
    "Compiling the network has these new parameters:\n",
    "- `optimizer`: The optimiser is the extremum finding function basically. The approach is _Stochastic Gradient Descent_.\n",
    "- `loss`: is our loss function indicating how far from true value our geuss is. \n",
    "- `learning_rate` is the step size of SGD.\n",
    "- `matrics` is what to store while training. We will store `accuracy`."
   ]
  },
  {
   "cell_type": "code",
   "execution_count": 6,
   "id": "927f2de8-d70d-4ca9-9df4-483202df34b5",
   "metadata": {},
   "outputs": [],
   "source": [
    "Model.compile(optimizer=Adam(learning_rate=0.0001),loss='sparse_categorical_crossentropy', metrics=['accuracy'])"
   ]
  },
  {
   "cell_type": "markdown",
   "id": "dd27a4b3-6989-4bc7-a281-007656a4e602",
   "metadata": {},
   "source": [
    "## Step 4: Training the Network:\n",
    " - `x` input or samples:\n",
    " - `y` output or labels\n",
    " - `batch_size`: how big should a batch be\n",
    " - `epoch`: How many times the samples are going through"
   ]
  },
  {
   "cell_type": "code",
   "execution_count": 7,
   "id": "8031c755-36c0-49d8-a695-9d2d9e924658",
   "metadata": {},
   "outputs": [
    {
     "name": "stdout",
     "output_type": "stream",
     "text": [
      "Epoch 1/40\n",
      "30/30 - 0s - loss: 0.7159 - accuracy: 0.4633 - 392ms/epoch - 13ms/step\n",
      "Epoch 2/40\n",
      "30/30 - 0s - loss: 0.7107 - accuracy: 0.4400 - 29ms/epoch - 976us/step\n",
      "Epoch 3/40\n",
      "30/30 - 0s - loss: 0.7063 - accuracy: 0.3967 - 33ms/epoch - 1ms/step\n",
      "Epoch 4/40\n",
      "30/30 - 0s - loss: 0.7018 - accuracy: 0.3533 - 27ms/epoch - 891us/step\n",
      "Epoch 5/40\n",
      "30/30 - 0s - loss: 0.6978 - accuracy: 0.2500 - 34ms/epoch - 1ms/step\n",
      "Epoch 6/40\n",
      "30/30 - 0s - loss: 0.6935 - accuracy: 0.3967 - 31ms/epoch - 1ms/step\n",
      "Epoch 7/40\n",
      "30/30 - 0s - loss: 0.6893 - accuracy: 0.5233 - 24ms/epoch - 800us/step\n",
      "Epoch 8/40\n",
      "30/30 - 0s - loss: 0.6848 - accuracy: 0.5433 - 27ms/epoch - 887us/step\n",
      "Epoch 9/40\n",
      "30/30 - 0s - loss: 0.6802 - accuracy: 0.5833 - 25ms/epoch - 829us/step\n",
      "Epoch 10/40\n",
      "30/30 - 0s - loss: 0.6754 - accuracy: 0.6167 - 25ms/epoch - 822us/step\n",
      "Epoch 11/40\n",
      "30/30 - 0s - loss: 0.6712 - accuracy: 0.6200 - 27ms/epoch - 910us/step\n",
      "Epoch 12/40\n",
      "30/30 - 0s - loss: 0.6674 - accuracy: 0.6167 - 24ms/epoch - 793us/step\n",
      "Epoch 13/40\n",
      "30/30 - 0s - loss: 0.6632 - accuracy: 0.6200 - 26ms/epoch - 862us/step\n",
      "Epoch 14/40\n",
      "30/30 - 0s - loss: 0.6592 - accuracy: 0.6200 - 23ms/epoch - 774us/step\n",
      "Epoch 15/40\n",
      "30/30 - 0s - loss: 0.6553 - accuracy: 0.6400 - 22ms/epoch - 722us/step\n",
      "Epoch 16/40\n",
      "30/30 - 0s - loss: 0.6514 - accuracy: 0.6433 - 22ms/epoch - 735us/step\n",
      "Epoch 17/40\n",
      "30/30 - 0s - loss: 0.6472 - accuracy: 0.6567 - 22ms/epoch - 731us/step\n",
      "Epoch 18/40\n",
      "30/30 - 0s - loss: 0.6430 - accuracy: 0.6600 - 22ms/epoch - 736us/step\n",
      "Epoch 19/40\n",
      "30/30 - 0s - loss: 0.6384 - accuracy: 0.6733 - 22ms/epoch - 744us/step\n",
      "Epoch 20/40\n",
      "30/30 - 0s - loss: 0.6340 - accuracy: 0.6733 - 21ms/epoch - 699us/step\n",
      "Epoch 21/40\n",
      "30/30 - 0s - loss: 0.6299 - accuracy: 0.6733 - 27ms/epoch - 915us/step\n",
      "Epoch 22/40\n",
      "30/30 - 0s - loss: 0.6262 - accuracy: 0.6767 - 22ms/epoch - 735us/step\n",
      "Epoch 23/40\n",
      "30/30 - 0s - loss: 0.6224 - accuracy: 0.6767 - 22ms/epoch - 728us/step\n",
      "Epoch 24/40\n",
      "30/30 - 0s - loss: 0.6186 - accuracy: 0.6767 - 24ms/epoch - 786us/step\n",
      "Epoch 25/40\n",
      "30/30 - 0s - loss: 0.6149 - accuracy: 0.6867 - 24ms/epoch - 785us/step\n",
      "Epoch 26/40\n",
      "30/30 - 0s - loss: 0.6111 - accuracy: 0.7000 - 27ms/epoch - 912us/step\n",
      "Epoch 27/40\n",
      "30/30 - 0s - loss: 0.6075 - accuracy: 0.7100 - 23ms/epoch - 781us/step\n",
      "Epoch 28/40\n",
      "30/30 - 0s - loss: 0.6037 - accuracy: 0.7200 - 23ms/epoch - 751us/step\n",
      "Epoch 29/40\n",
      "30/30 - 0s - loss: 0.5999 - accuracy: 0.7233 - 22ms/epoch - 732us/step\n",
      "Epoch 30/40\n",
      "30/30 - 0s - loss: 0.5961 - accuracy: 0.7367 - 23ms/epoch - 772us/step\n",
      "Epoch 31/40\n",
      "30/30 - 0s - loss: 0.5923 - accuracy: 0.7400 - 22ms/epoch - 731us/step\n",
      "Epoch 32/40\n",
      "30/30 - 0s - loss: 0.5885 - accuracy: 0.7533 - 23ms/epoch - 751us/step\n",
      "Epoch 33/40\n",
      "30/30 - 0s - loss: 0.5848 - accuracy: 0.7567 - 22ms/epoch - 718us/step\n",
      "Epoch 34/40\n",
      "30/30 - 0s - loss: 0.5810 - accuracy: 0.7633 - 23ms/epoch - 754us/step\n",
      "Epoch 35/40\n",
      "30/30 - 0s - loss: 0.5772 - accuracy: 0.7667 - 26ms/epoch - 858us/step\n",
      "Epoch 36/40\n",
      "30/30 - 0s - loss: 0.5734 - accuracy: 0.7700 - 24ms/epoch - 792us/step\n",
      "Epoch 37/40\n",
      "30/30 - 0s - loss: 0.5698 - accuracy: 0.7700 - 25ms/epoch - 836us/step\n",
      "Epoch 38/40\n",
      "30/30 - 0s - loss: 0.5660 - accuracy: 0.7767 - 23ms/epoch - 767us/step\n",
      "Epoch 39/40\n",
      "30/30 - 0s - loss: 0.5622 - accuracy: 0.7833 - 22ms/epoch - 720us/step\n",
      "Epoch 40/40\n",
      "30/30 - 0s - loss: 0.5584 - accuracy: 0.7833 - 22ms/epoch - 723us/step\n"
     ]
    },
    {
     "data": {
      "text/plain": [
       "<keras.src.callbacks.History at 0x7ff1670d6860>"
      ]
     },
     "execution_count": 7,
     "metadata": {},
     "output_type": "execute_result"
    }
   ],
   "source": [
    "Model.fit(x=train_sample_scaled, y=train_label, batch_size=10, shuffle=True,epochs=40,verbose=2)"
   ]
  },
  {
   "cell_type": "markdown",
   "id": "55e525dc-9d04-4ebf-90e0-5bff34e56c31",
   "metadata": {},
   "source": [
    "## Validation Set\n"
   ]
  },
  {
   "cell_type": "code",
   "execution_count": 8,
   "id": "d52a29be-d950-465d-b3b8-6162a434ae28",
   "metadata": {},
   "outputs": [
    {
     "name": "stdout",
     "output_type": "stream",
     "text": [
      "Epoch 1/40\n",
      "27/27 - 0s - loss: 0.5603 - accuracy: 0.7778 - val_loss: 0.5056 - val_accuracy: 0.8667 - 147ms/epoch - 5ms/step\n",
      "Epoch 2/40\n",
      "27/27 - 0s - loss: 0.5571 - accuracy: 0.7778 - val_loss: 0.5017 - val_accuracy: 0.8667 - 42ms/epoch - 2ms/step\n",
      "Epoch 3/40\n",
      "27/27 - 0s - loss: 0.5538 - accuracy: 0.7815 - val_loss: 0.4974 - val_accuracy: 0.9000 - 37ms/epoch - 1ms/step\n",
      "Epoch 4/40\n",
      "27/27 - 0s - loss: 0.5506 - accuracy: 0.7889 - val_loss: 0.4934 - val_accuracy: 0.9000 - 39ms/epoch - 1ms/step\n",
      "Epoch 5/40\n",
      "27/27 - 0s - loss: 0.5474 - accuracy: 0.7889 - val_loss: 0.4893 - val_accuracy: 0.9000 - 39ms/epoch - 1ms/step\n",
      "Epoch 6/40\n",
      "27/27 - 0s - loss: 0.5443 - accuracy: 0.8000 - val_loss: 0.4851 - val_accuracy: 0.9000 - 36ms/epoch - 1ms/step\n",
      "Epoch 7/40\n",
      "27/27 - 0s - loss: 0.5412 - accuracy: 0.8000 - val_loss: 0.4808 - val_accuracy: 0.9000 - 36ms/epoch - 1ms/step\n",
      "Epoch 8/40\n",
      "27/27 - 0s - loss: 0.5379 - accuracy: 0.8000 - val_loss: 0.4767 - val_accuracy: 0.9000 - 36ms/epoch - 1ms/step\n",
      "Epoch 9/40\n",
      "27/27 - 0s - loss: 0.5346 - accuracy: 0.8000 - val_loss: 0.4729 - val_accuracy: 0.9000 - 52ms/epoch - 2ms/step\n",
      "Epoch 10/40\n",
      "27/27 - 0s - loss: 0.5315 - accuracy: 0.8037 - val_loss: 0.4688 - val_accuracy: 0.9000 - 41ms/epoch - 2ms/step\n",
      "Epoch 11/40\n",
      "27/27 - 0s - loss: 0.5284 - accuracy: 0.8037 - val_loss: 0.4649 - val_accuracy: 0.9000 - 34ms/epoch - 1ms/step\n",
      "Epoch 12/40\n",
      "27/27 - 0s - loss: 0.5254 - accuracy: 0.8148 - val_loss: 0.4611 - val_accuracy: 0.9000 - 34ms/epoch - 1ms/step\n",
      "Epoch 13/40\n",
      "27/27 - 0s - loss: 0.5223 - accuracy: 0.8222 - val_loss: 0.4564 - val_accuracy: 0.9000 - 35ms/epoch - 1ms/step\n",
      "Epoch 14/40\n",
      "27/27 - 0s - loss: 0.5190 - accuracy: 0.8222 - val_loss: 0.4525 - val_accuracy: 0.9000 - 34ms/epoch - 1ms/step\n",
      "Epoch 15/40\n",
      "27/27 - 0s - loss: 0.5160 - accuracy: 0.8222 - val_loss: 0.4489 - val_accuracy: 0.9000 - 35ms/epoch - 1ms/step\n",
      "Epoch 16/40\n",
      "27/27 - 0s - loss: 0.5130 - accuracy: 0.8370 - val_loss: 0.4446 - val_accuracy: 0.9000 - 40ms/epoch - 1ms/step\n",
      "Epoch 17/40\n",
      "27/27 - 0s - loss: 0.5100 - accuracy: 0.8407 - val_loss: 0.4408 - val_accuracy: 0.9000 - 37ms/epoch - 1ms/step\n",
      "Epoch 18/40\n",
      "27/27 - 0s - loss: 0.5070 - accuracy: 0.8407 - val_loss: 0.4367 - val_accuracy: 0.9000 - 46ms/epoch - 2ms/step\n",
      "Epoch 19/40\n",
      "27/27 - 0s - loss: 0.5042 - accuracy: 0.8444 - val_loss: 0.4334 - val_accuracy: 0.9000 - 41ms/epoch - 2ms/step\n",
      "Epoch 20/40\n",
      "27/27 - 0s - loss: 0.5010 - accuracy: 0.8407 - val_loss: 0.4291 - val_accuracy: 0.9000 - 52ms/epoch - 2ms/step\n",
      "Epoch 21/40\n",
      "27/27 - 0s - loss: 0.4981 - accuracy: 0.8444 - val_loss: 0.4256 - val_accuracy: 0.9000 - 37ms/epoch - 1ms/step\n",
      "Epoch 22/40\n",
      "27/27 - 0s - loss: 0.4954 - accuracy: 0.8444 - val_loss: 0.4219 - val_accuracy: 0.9000 - 36ms/epoch - 1ms/step\n",
      "Epoch 23/40\n",
      "27/27 - 0s - loss: 0.4924 - accuracy: 0.8444 - val_loss: 0.4175 - val_accuracy: 0.9000 - 37ms/epoch - 1ms/step\n",
      "Epoch 24/40\n",
      "27/27 - 0s - loss: 0.4894 - accuracy: 0.8444 - val_loss: 0.4140 - val_accuracy: 0.9000 - 35ms/epoch - 1ms/step\n",
      "Epoch 25/40\n",
      "27/27 - 0s - loss: 0.4869 - accuracy: 0.8519 - val_loss: 0.4104 - val_accuracy: 0.9000 - 41ms/epoch - 2ms/step\n",
      "Epoch 26/40\n",
      "27/27 - 0s - loss: 0.4840 - accuracy: 0.8481 - val_loss: 0.4062 - val_accuracy: 0.9000 - 37ms/epoch - 1ms/step\n",
      "Epoch 27/40\n",
      "27/27 - 0s - loss: 0.4811 - accuracy: 0.8519 - val_loss: 0.4028 - val_accuracy: 0.9000 - 36ms/epoch - 1ms/step\n",
      "Epoch 28/40\n",
      "27/27 - 0s - loss: 0.4783 - accuracy: 0.8519 - val_loss: 0.3991 - val_accuracy: 0.9000 - 34ms/epoch - 1ms/step\n",
      "Epoch 29/40\n",
      "27/27 - 0s - loss: 0.4755 - accuracy: 0.8519 - val_loss: 0.3959 - val_accuracy: 0.9000 - 34ms/epoch - 1ms/step\n",
      "Epoch 30/40\n",
      "27/27 - 0s - loss: 0.4729 - accuracy: 0.8519 - val_loss: 0.3921 - val_accuracy: 0.9000 - 36ms/epoch - 1ms/step\n",
      "Epoch 31/40\n",
      "27/27 - 0s - loss: 0.4703 - accuracy: 0.8519 - val_loss: 0.3882 - val_accuracy: 0.9000 - 34ms/epoch - 1ms/step\n",
      "Epoch 32/40\n",
      "27/27 - 0s - loss: 0.4675 - accuracy: 0.8593 - val_loss: 0.3851 - val_accuracy: 0.9000 - 34ms/epoch - 1ms/step\n",
      "Epoch 33/40\n",
      "27/27 - 0s - loss: 0.4650 - accuracy: 0.8593 - val_loss: 0.3815 - val_accuracy: 0.9000 - 34ms/epoch - 1ms/step\n",
      "Epoch 34/40\n",
      "27/27 - 0s - loss: 0.4624 - accuracy: 0.8593 - val_loss: 0.3783 - val_accuracy: 0.9000 - 34ms/epoch - 1ms/step\n",
      "Epoch 35/40\n",
      "27/27 - 0s - loss: 0.4598 - accuracy: 0.8630 - val_loss: 0.3748 - val_accuracy: 0.9000 - 35ms/epoch - 1ms/step\n",
      "Epoch 36/40\n",
      "27/27 - 0s - loss: 0.4572 - accuracy: 0.8593 - val_loss: 0.3713 - val_accuracy: 0.9333 - 36ms/epoch - 1ms/step\n",
      "Epoch 37/40\n",
      "27/27 - 0s - loss: 0.4548 - accuracy: 0.8593 - val_loss: 0.3679 - val_accuracy: 0.9333 - 35ms/epoch - 1ms/step\n",
      "Epoch 38/40\n",
      "27/27 - 0s - loss: 0.4524 - accuracy: 0.8630 - val_loss: 0.3643 - val_accuracy: 0.9333 - 35ms/epoch - 1ms/step\n",
      "Epoch 39/40\n",
      "27/27 - 0s - loss: 0.4502 - accuracy: 0.8630 - val_loss: 0.3613 - val_accuracy: 0.9333 - 52ms/epoch - 2ms/step\n",
      "Epoch 40/40\n",
      "27/27 - 0s - loss: 0.4475 - accuracy: 0.8630 - val_loss: 0.3581 - val_accuracy: 0.9333 - 41ms/epoch - 2ms/step\n"
     ]
    },
    {
     "data": {
      "text/plain": [
       "<keras.src.callbacks.History at 0x7ff1642a47f0>"
      ]
     },
     "execution_count": 8,
     "metadata": {},
     "output_type": "execute_result"
    }
   ],
   "source": [
    "Model.fit(x=train_sample_scaled, y=train_label,validation_split=0.1, batch_size=10, shuffle=True,epochs=40,verbose=2)"
   ]
  },
  {
   "cell_type": "markdown",
   "id": "cc625e95-ba65-40bc-8b4b-7af33ee5b89f",
   "metadata": {},
   "source": [
    "## Inferance/ Predicting the value\n",
    "\n",
    "- prepare the test data the same as train data"
   ]
  },
  {
   "cell_type": "code",
   "execution_count": 9,
   "id": "4c01e5f8-3b29-48e4-bf2f-4f9e3fdd0bc7",
   "metadata": {},
   "outputs": [],
   "source": [
    "#creating a list of \n",
    "test_label = [] #whether it's +ve or -ve\n",
    "test_sample = [] #age\n",
    "\n",
    "N = 1000 #total number of tests\n",
    "for i in range(N//10):\n",
    "    sample_age = np.random.randint(13, 100)\n",
    "    test_sample.append(sample_age)    \n",
    "    if sample_age<60:\n",
    "        rand = random()\n",
    "        if rand<0.1:\n",
    "            test_label.append(1)\n",
    "        else:\n",
    "            test_label.append(0)\n",
    "    elif sample_age>=60:\n",
    "        rand = random()\n",
    "        if rand<0.95:\n",
    "            test_label.append(1)\n",
    "        else:\n",
    "            test_label.append(0)\n",
    "\n",
    "test_label = np.array(test_label)\n",
    "test_sample = np.array(test_sample)\n",
    "\n",
    "# shuffle\n",
    "test_label, test_sample = shuffle(test_label, test_sample)\n",
    "\n",
    "#rescale the data\n",
    "scaler = MinMaxScaler(feature_range=(0,1))\n",
    "test_sample_scaled = scaler.fit_transform(test_sample.reshape(-1,1))"
   ]
  },
  {
   "cell_type": "code",
   "execution_count": 10,
   "id": "65061184-c55a-4939-b173-d853eb72b508",
   "metadata": {},
   "outputs": [],
   "source": [
    "predictions = Model.predict(x=test_sample_scaled,batch_size=10, verbose=0)"
   ]
  },
  {
   "cell_type": "code",
   "execution_count": 11,
   "id": "55208b5e-bf44-412f-979a-b3c029da04f4",
   "metadata": {},
   "outputs": [],
   "source": [
    "predictions = np.argmax(predictions, axis=-1)"
   ]
  },
  {
   "cell_type": "code",
   "execution_count": 12,
   "id": "f6e1d1d8-3cd8-4a66-bc7c-94a716ead095",
   "metadata": {},
   "outputs": [
    {
     "data": {
      "text/plain": [
       "array([0, 0, 0, 1, 0, 1, 1, 0, 1, 0, 0, 0, 1, 0, 0, 0, 1, 1, 0, 1, 1, 0,\n",
       "       1, 1, 1, 0, 0, 1, 1, 0, 1, 0, 1, 0, 1, 1, 1, 0, 1, 1, 1, 1, 1, 1,\n",
       "       0, 1, 0, 0, 0, 1, 0, 1, 0, 1, 1, 1, 0, 0, 0, 0, 1, 0, 1, 1, 1, 0,\n",
       "       1, 0, 0, 0, 1, 0, 1, 1, 0, 0, 0, 0, 1, 0, 1, 0, 1, 0, 1, 1, 0, 0,\n",
       "       1, 0, 0, 0, 0, 1, 1, 1, 0, 0, 0, 0])"
      ]
     },
     "execution_count": 12,
     "metadata": {},
     "output_type": "execute_result"
    }
   ],
   "source": [
    "predictions"
   ]
  },
  {
   "cell_type": "code",
   "execution_count": 13,
   "id": "2d40d919-23ce-48cb-af57-71949767ea28",
   "metadata": {},
   "outputs": [],
   "source": [
    "cm = confusion_matrix(y_true=test_label, y_pred=predictions)"
   ]
  },
  {
   "cell_type": "code",
   "execution_count": 14,
   "id": "e3a4a163-ae74-473a-9704-f44f2d52cf4c",
   "metadata": {},
   "outputs": [],
   "source": [
    "def plot_confusion_matrix(cm, classes,\n",
    "                        normalize=False,\n",
    "                        title='Confusion matrix',\n",
    "                        cmap=plt.cm.Blues):\n",
    "    \"\"\"\n",
    "    This function prints and plots the confusion matrix.\n",
    "    Normalization can be applied by setting `normalize=True`.\n",
    "    \"\"\"\n",
    "    plt.imshow(cm, interpolation='nearest', cmap=cmap)\n",
    "    plt.title(title)\n",
    "    plt.colorbar()\n",
    "    tick_marks = np.arange(len(classes))\n",
    "    plt.xticks(tick_marks, classes, rotation=45)\n",
    "    plt.yticks(tick_marks, classes)\n",
    "\n",
    "    if normalize:\n",
    "        cm = cm.astype('float') / cm.sum(axis=1)[:, np.newaxis]\n",
    "        print(\"Normalized confusion matrix\")\n",
    "    else:\n",
    "        print('Confusion matrix, without normalization')\n",
    "\n",
    "    print(cm)\n",
    "\n",
    "    thresh = cm.max() / 2.\n",
    "    for i, j in itertools.product(range(cm.shape[0]), range(cm.shape[1])):\n",
    "        plt.text(j, i, cm[i, j],\n",
    "            horizontalalignment=\"center\",\n",
    "            color=\"white\" if cm[i, j] > thresh else \"black\")\n",
    "\n",
    "    plt.tight_layout()\n",
    "    plt.ylabel('True label')\n",
    "    plt.xlabel('Predicted label')"
   ]
  },
  {
   "cell_type": "code",
   "execution_count": 15,
   "id": "f9c8ed8a-b2b2-42c0-8c4e-e29d56f3d080",
   "metadata": {},
   "outputs": [],
   "source": [
    "cm_plot_labels = ['postive','negative']"
   ]
  },
  {
   "cell_type": "code",
   "execution_count": 16,
   "id": "dfdeda57-c729-4fde-b9b2-63638ba58471",
   "metadata": {},
   "outputs": [
    {
     "name": "stdout",
     "output_type": "stream",
     "text": [
      "Confusion matrix, without normalization\n",
      "[[47  7]\n",
      " [ 5 41]]\n"
     ]
    },
    {
     "data": {
      "image/png": "[encoded data removed]",
      "text/plain": [
       "<Figure size 640x480 with 2 Axes>"
      ]
     },
     "metadata": {},
     "output_type": "display_data"
    }
   ],
   "source": [
    "plot_confusion_matrix(cm=cm, classes=cm_plot_labels, title='Confusion Matrix')"
   ]
  },
  {
   "cell_type": "code",
   "execution_count": null,
   "id": "cf48d934-6089-494e-93bd-abca619c6d05",
   "metadata": {},
   "outputs": [],
   "source": []
  }
 ],
 "metadata": {
  "kernelspec": {
   "display_name": "Python 3 (ipykernel)",
   "language": "python",
   "name": "python3"
  },
  "language_info": {
   "codemirror_mode": {
    "name": "ipython",
    "version": 3
   },
   "file_extension": ".py",
   "mimetype": "text/x-python",
   "name": "python",
   "nbconvert_exporter": "python",
   "pygments_lexer": "ipython3",
   "version": "3.10.9"
  }
 },
 "nbformat": 4,
 "nbformat_minor": 5
}
