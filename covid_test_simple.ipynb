{
 "cells": [
  {
   "cell_type": "code",
   "execution_count": 1,
   "id": "a7e36fad-51bd-4e57-9cbd-821b86c105ba",
   "metadata": {},
   "outputs": [
    {
     "name": "stderr",
     "output_type": "stream",
     "text": [
      "2023-12-25 12:27:58.727168: I tensorflow/core/util/port.cc:113] oneDNN custom operations are on. You may see slightly different numerical results due to floating-point round-off errors from different computation orders. To turn them off, set the environment variable `TF_ENABLE_ONEDNN_OPTS=0`.\n",
      "2023-12-25 12:27:58.729241: I external/local_tsl/tsl/cuda/cudart_stub.cc:31] Could not find cuda drivers on your machine, GPU will not be used.\n",
      "2023-12-25 12:27:58.755467: E external/local_xla/xla/stream_executor/cuda/cuda_dnn.cc:9261] Unable to register cuDNN factory: Attempting to register factory for plugin cuDNN when one has already been registered\n",
      "2023-12-25 12:27:58.755497: E external/local_xla/xla/stream_executor/cuda/cuda_fft.cc:607] Unable to register cuFFT factory: Attempting to register factory for plugin cuFFT when one has already been registered\n",
      "2023-12-25 12:27:58.756308: E external/local_xla/xla/stream_executor/cuda/cuda_blas.cc:1515] Unable to register cuBLAS factory: Attempting to register factory for plugin cuBLAS when one has already been registered\n",
      "2023-12-25 12:27:58.760718: I external/local_tsl/tsl/cuda/cudart_stub.cc:31] Could not find cuda drivers on your machine, GPU will not be used.\n",
      "2023-12-25 12:27:58.761038: I tensorflow/core/platform/cpu_feature_guard.cc:182] This TensorFlow binary is optimized to use available CPU instructions in performance-critical operations.\n",
      "To enable the following instructions: AVX2 AVX512F AVX512_VNNI FMA, in other operations, rebuild TensorFlow with the appropriate compiler flags.\n",
      "2023-12-25 12:27:59.443924: W tensorflow/compiler/tf2tensorrt/utils/py_utils.cc:38] TF-TRT Warning: Could not find TensorRT\n"
     ]
    }
   ],
   "source": [
    "import numpy as np\n",
    "import matplotlib.pyplot as plt\n",
    "\n",
    "from sklearn.utils import shuffle\n",
    "from sklearn.preprocessing import MinMaxScaler\n",
    "from random import random\n",
    "\n",
    "from tensorflow.keras.models import Sequential\n",
    "from tensorflow.keras.layers import Dense\n",
    "from tensorflow.keras.optimizers import SGD, Adam\n",
    "from tensorflow.keras.metrics import mean_squared_error, categorical_crossentropy\n",
    "\n",
    "from sklearn.metrics import confusion_matrix\n",
    "import itertools"
   ]
  },
  {
   "cell_type": "markdown",
   "id": "52135b47-e652-4ddd-bc44-e499294c6dcd",
   "metadata": {
    "tags": []
   },
   "source": [
    "## Step 1: Making the data:\n",
    "\n",
    "Take this following hypotheical covid test:\n",
    "\n",
    "- $10\\%$ people who took the test between the age $13$ to $60$ were found positive. \n",
    "- $90\\%$ people who took the test between the age $60$ to $100$ were found postive. \n",
    "- All other people were found negative. \n",
    "\n",
    "Let's say we tested about a thousand people."
   ]
  },
  {
   "cell_type": "code",
   "execution_count": 2,
   "id": "67455ab1-f6d0-4b8e-9d96-4c386aa21041",
   "metadata": {},
   "outputs": [],
   "source": [
    "#creating a list of \n",
    "train_label = [] #whether it's +ve or -ve\n",
    "train_sample = [] #age\n",
    "\n",
    "N = 3000 #total number of tests\n",
    "for i in range(N//10):\n",
    "    sample_age = np.random.randint(13, 100)\n",
    "    train_sample.append(sample_age)    \n",
    "    if sample_age<60:\n",
    "        rand = random()\n",
    "        if rand<0.1:\n",
    "            train_label.append(1)\n",
    "        else:\n",
    "            train_label.append(0)\n",
    "    elif sample_age>=60:\n",
    "        rand = random()\n",
    "        if rand<0.9:\n",
    "            train_label.append(1)\n",
    "        else:\n",
    "            train_label.append(0)\n",
    "\n",
    "train_label = np.array(train_label)\n",
    "train_sample = np.array(train_sample)"
   ]
  },
  {
   "cell_type": "markdown",
   "id": "1ed83659-ae23-403e-9389-f99516cae45d",
   "metadata": {
    "tags": []
   },
   "source": [
    "## Step 2: Data Processing\n",
    "\n",
    "- First we shuffle both the datas.\n",
    "- Scikit learn's fucntion `MaxMinScaler` will renormalise the data from $[13,100]$ to $[0,1]$."
   ]
  },
  {
   "cell_type": "code",
   "execution_count": 3,
   "id": "e30b29c8-7977-452f-9d15-8db27f1d52ee",
   "metadata": {},
   "outputs": [],
   "source": [
    "# shuffle\n",
    "train_label, train_sample = shuffle(train_label, train_sample)\n",
    "\n",
    "#rescale the data\n",
    "scaler = MinMaxScaler(feature_range=(0,1))\n",
    "train_sample_scaled = scaler.fit_transform(train_sample.reshape(-1,1))"
   ]
  },
  {
   "cell_type": "markdown",
   "id": "3055d41f-96e7-491b-b4e5-cf8fd938d741",
   "metadata": {},
   "source": [
    "## Step 3: Create an artificial Neural Network\n",
    "\n",
    "- We will make a `Sequential` neural network, which means that it is layer by layer NN.\n",
    "- We will have two hiddern `Dense` layers, Dense meaning that all the neurons are connected to all the neurons of the previous layers. \n",
    "- Input size is `(1,0)` as we have one feature, which is the age, and output is 2, the probability of being +ve and -ve respectively."
   ]
  },
  {
   "cell_type": "code",
   "execution_count": 4,
   "id": "7ecd2182-81c8-4f56-8676-1f62957bdbba",
   "metadata": {},
   "outputs": [],
   "source": [
    "#create a sequential NN\n",
    "\n",
    "#creating the layers\n",
    "layer1 = Dense(16, input_shape=(1,), activation='relu')\n",
    "layer2 = Dense(32, activation='relu')\n",
    "layer3 = Dense(2, activation='softmax')\n",
    "\n",
    "#creating the model\n",
    "Model = Sequential([layer1, layer2, layer3])"
   ]
  },
  {
   "cell_type": "markdown",
   "id": "a4b71ecf-d285-476b-8ce1-2eb0ce83278b",
   "metadata": {},
   "source": [
    "## Step3: Compiling the Network\n",
    "\n",
    "Compiling the network has these new parameters:\n",
    "- `optimizer`: The optimiser is the extremum finding function basically. The approach is _Stochastic Gradient Descent_.\n",
    "- `loss`: is our loss function indicating how far from true value our geuss is. \n",
    "- `learning_rate` is the step size of SGD.\n",
    "- `matrics` is what to store while training. We will store `accuracy`."
   ]
  },
  {
   "cell_type": "code",
   "execution_count": 5,
   "id": "927f2de8-d70d-4ca9-9df4-483202df34b5",
   "metadata": {},
   "outputs": [],
   "source": [
    "Model.compile(optimizer=Adam(learning_rate=0.0001),loss='sparse_categorical_crossentropy', metrics=['accuracy'])"
   ]
  },
  {
   "cell_type": "markdown",
   "id": "dd27a4b3-6989-4bc7-a281-007656a4e602",
   "metadata": {},
   "source": [
    "## Step 4: Training the Network:\n",
    " - `x` input or samples:\n",
    " - `y` output or labels\n",
    " - `batch_size`: how big should a batch be\n",
    " - `epoch`: How many times the samples are going through"
   ]
  },
  {
   "cell_type": "code",
   "execution_count": 6,
   "id": "8031c755-36c0-49d8-a695-9d2d9e924658",
   "metadata": {},
   "outputs": [
    {
     "name": "stdout",
     "output_type": "stream",
     "text": [
      "Epoch 1/40\n",
      "30/30 - 0s - loss: 0.6991 - accuracy: 0.4633 - 407ms/epoch - 14ms/step\n",
      "Epoch 2/40\n",
      "30/30 - 0s - loss: 0.6973 - accuracy: 0.4500 - 29ms/epoch - 964us/step\n",
      "Epoch 3/40\n",
      "30/30 - 0s - loss: 0.6959 - accuracy: 0.3633 - 32ms/epoch - 1ms/step\n",
      "Epoch 4/40\n",
      "30/30 - 0s - loss: 0.6944 - accuracy: 0.2633 - 28ms/epoch - 949us/step\n",
      "Epoch 5/40\n",
      "30/30 - 0s - loss: 0.6929 - accuracy: 0.5000 - 27ms/epoch - 891us/step\n",
      "Epoch 6/40\n",
      "30/30 - 0s - loss: 0.6915 - accuracy: 0.5000 - 27ms/epoch - 906us/step\n",
      "Epoch 7/40\n",
      "30/30 - 0s - loss: 0.6901 - accuracy: 0.5000 - 29ms/epoch - 956us/step\n",
      "Epoch 8/40\n",
      "30/30 - 0s - loss: 0.6887 - accuracy: 0.5000 - 26ms/epoch - 877us/step\n",
      "Epoch 9/40\n",
      "30/30 - 0s - loss: 0.6873 - accuracy: 0.5000 - 27ms/epoch - 905us/step\n",
      "Epoch 10/40\n",
      "30/30 - 0s - loss: 0.6859 - accuracy: 0.4967 - 28ms/epoch - 924us/step\n",
      "Epoch 11/40\n",
      "30/30 - 0s - loss: 0.6844 - accuracy: 0.5167 - 26ms/epoch - 864us/step\n",
      "Epoch 12/40\n",
      "30/30 - 0s - loss: 0.6828 - accuracy: 0.5100 - 24ms/epoch - 812us/step\n",
      "Epoch 13/40\n",
      "30/30 - 0s - loss: 0.6813 - accuracy: 0.5300 - 27ms/epoch - 905us/step\n",
      "Epoch 14/40\n",
      "30/30 - 0s - loss: 0.6798 - accuracy: 0.5300 - 25ms/epoch - 823us/step\n",
      "Epoch 15/40\n",
      "30/30 - 0s - loss: 0.6783 - accuracy: 0.5467 - 27ms/epoch - 884us/step\n",
      "Epoch 16/40\n",
      "30/30 - 0s - loss: 0.6769 - accuracy: 0.5533 - 29ms/epoch - 962us/step\n",
      "Epoch 17/40\n",
      "30/30 - 0s - loss: 0.6754 - accuracy: 0.5633 - 33ms/epoch - 1ms/step\n",
      "Epoch 18/40\n",
      "30/30 - 0s - loss: 0.6739 - accuracy: 0.5567 - 24ms/epoch - 794us/step\n",
      "Epoch 19/40\n",
      "30/30 - 0s - loss: 0.6724 - accuracy: 0.5667 - 24ms/epoch - 810us/step\n",
      "Epoch 20/40\n",
      "30/30 - 0s - loss: 0.6708 - accuracy: 0.5700 - 24ms/epoch - 807us/step\n",
      "Epoch 21/40\n",
      "30/30 - 0s - loss: 0.6693 - accuracy: 0.5633 - 25ms/epoch - 849us/step\n",
      "Epoch 22/40\n",
      "30/30 - 0s - loss: 0.6676 - accuracy: 0.5733 - 26ms/epoch - 879us/step\n",
      "Epoch 23/40\n",
      "30/30 - 0s - loss: 0.6661 - accuracy: 0.5733 - 24ms/epoch - 791us/step\n",
      "Epoch 24/40\n",
      "30/30 - 0s - loss: 0.6644 - accuracy: 0.5800 - 24ms/epoch - 795us/step\n",
      "Epoch 25/40\n",
      "30/30 - 0s - loss: 0.6627 - accuracy: 0.5833 - 23ms/epoch - 780us/step\n",
      "Epoch 26/40\n",
      "30/30 - 0s - loss: 0.6610 - accuracy: 0.5833 - 27ms/epoch - 910us/step\n",
      "Epoch 27/40\n",
      "30/30 - 0s - loss: 0.6592 - accuracy: 0.5867 - 23ms/epoch - 781us/step\n",
      "Epoch 28/40\n",
      "30/30 - 0s - loss: 0.6577 - accuracy: 0.5900 - 23ms/epoch - 759us/step\n",
      "Epoch 29/40\n",
      "30/30 - 0s - loss: 0.6557 - accuracy: 0.6033 - 23ms/epoch - 758us/step\n",
      "Epoch 30/40\n",
      "30/30 - 0s - loss: 0.6539 - accuracy: 0.6100 - 24ms/epoch - 791us/step\n",
      "Epoch 31/40\n",
      "30/30 - 0s - loss: 0.6522 - accuracy: 0.6100 - 24ms/epoch - 808us/step\n",
      "Epoch 32/40\n",
      "30/30 - 0s - loss: 0.6502 - accuracy: 0.6133 - 25ms/epoch - 834us/step\n",
      "Epoch 33/40\n",
      "30/30 - 0s - loss: 0.6485 - accuracy: 0.6133 - 25ms/epoch - 822us/step\n",
      "Epoch 34/40\n",
      "30/30 - 0s - loss: 0.6465 - accuracy: 0.6233 - 23ms/epoch - 762us/step\n",
      "Epoch 35/40\n",
      "30/30 - 0s - loss: 0.6446 - accuracy: 0.6267 - 25ms/epoch - 834us/step\n",
      "Epoch 36/40\n",
      "30/30 - 0s - loss: 0.6428 - accuracy: 0.6233 - 23ms/epoch - 770us/step\n",
      "Epoch 37/40\n",
      "30/30 - 0s - loss: 0.6408 - accuracy: 0.6367 - 26ms/epoch - 869us/step\n",
      "Epoch 38/40\n",
      "30/30 - 0s - loss: 0.6388 - accuracy: 0.6467 - 26ms/epoch - 853us/step\n",
      "Epoch 39/40\n",
      "30/30 - 0s - loss: 0.6368 - accuracy: 0.6400 - 25ms/epoch - 847us/step\n",
      "Epoch 40/40\n",
      "30/30 - 0s - loss: 0.6349 - accuracy: 0.6500 - 24ms/epoch - 809us/step\n"
     ]
    },
    {
     "data": {
      "text/plain": [
       "<keras.src.callbacks.History at 0x7f7609f0f9a0>"
      ]
     },
     "execution_count": 6,
     "metadata": {},
     "output_type": "execute_result"
    }
   ],
   "source": [
    "Model.fit(x=train_sample_scaled, y=train_label, batch_size=10, shuffle=True,epochs=40,verbose=2)"
   ]
  },
  {
   "cell_type": "markdown",
   "id": "55e525dc-9d04-4ebf-90e0-5bff34e56c31",
   "metadata": {},
   "source": [
    "## Validation Set\n"
   ]
  },
  {
   "cell_type": "code",
   "execution_count": 7,
   "id": "d52a29be-d950-465d-b3b8-6162a434ae28",
   "metadata": {},
   "outputs": [
    {
     "name": "stdout",
     "output_type": "stream",
     "text": [
      "Epoch 1/40\n",
      "27/27 - 0s - loss: 0.6330 - accuracy: 0.6630 - val_loss: 0.6307 - val_accuracy: 0.6667 - 135ms/epoch - 5ms/step\n",
      "Epoch 2/40\n",
      "27/27 - 0s - loss: 0.6311 - accuracy: 0.6630 - val_loss: 0.6290 - val_accuracy: 0.6667 - 56ms/epoch - 2ms/step\n",
      "Epoch 3/40\n",
      "27/27 - 0s - loss: 0.6292 - accuracy: 0.6630 - val_loss: 0.6271 - val_accuracy: 0.6667 - 38ms/epoch - 1ms/step\n",
      "Epoch 4/40\n",
      "27/27 - 0s - loss: 0.6272 - accuracy: 0.6630 - val_loss: 0.6253 - val_accuracy: 0.6667 - 35ms/epoch - 1ms/step\n",
      "Epoch 5/40\n",
      "27/27 - 0s - loss: 0.6253 - accuracy: 0.6667 - val_loss: 0.6236 - val_accuracy: 0.6667 - 43ms/epoch - 2ms/step\n",
      "Epoch 6/40\n",
      "27/27 - 0s - loss: 0.6233 - accuracy: 0.6741 - val_loss: 0.6218 - val_accuracy: 0.6667 - 37ms/epoch - 1ms/step\n",
      "Epoch 7/40\n",
      "27/27 - 0s - loss: 0.6213 - accuracy: 0.6741 - val_loss: 0.6199 - val_accuracy: 0.6667 - 44ms/epoch - 2ms/step\n",
      "Epoch 8/40\n",
      "27/27 - 0s - loss: 0.6191 - accuracy: 0.6778 - val_loss: 0.6181 - val_accuracy: 0.6667 - 35ms/epoch - 1ms/step\n",
      "Epoch 9/40\n",
      "27/27 - 0s - loss: 0.6172 - accuracy: 0.6778 - val_loss: 0.6163 - val_accuracy: 0.6667 - 53ms/epoch - 2ms/step\n",
      "Epoch 10/40\n",
      "27/27 - 0s - loss: 0.6151 - accuracy: 0.6926 - val_loss: 0.6144 - val_accuracy: 0.6667 - 38ms/epoch - 1ms/step\n",
      "Epoch 11/40\n",
      "27/27 - 0s - loss: 0.6129 - accuracy: 0.6963 - val_loss: 0.6125 - val_accuracy: 0.6667 - 35ms/epoch - 1ms/step\n",
      "Epoch 12/40\n",
      "27/27 - 0s - loss: 0.6108 - accuracy: 0.7037 - val_loss: 0.6106 - val_accuracy: 0.6667 - 36ms/epoch - 1ms/step\n",
      "Epoch 13/40\n",
      "27/27 - 0s - loss: 0.6086 - accuracy: 0.7037 - val_loss: 0.6088 - val_accuracy: 0.6667 - 37ms/epoch - 1ms/step\n",
      "Epoch 14/40\n",
      "27/27 - 0s - loss: 0.6065 - accuracy: 0.7037 - val_loss: 0.6068 - val_accuracy: 0.7000 - 34ms/epoch - 1ms/step\n",
      "Epoch 15/40\n",
      "27/27 - 0s - loss: 0.6043 - accuracy: 0.7111 - val_loss: 0.6049 - val_accuracy: 0.7000 - 35ms/epoch - 1ms/step\n",
      "Epoch 16/40\n",
      "27/27 - 0s - loss: 0.6020 - accuracy: 0.7111 - val_loss: 0.6030 - val_accuracy: 0.7000 - 36ms/epoch - 1ms/step\n",
      "Epoch 17/40\n",
      "27/27 - 0s - loss: 0.5997 - accuracy: 0.7185 - val_loss: 0.6011 - val_accuracy: 0.7000 - 35ms/epoch - 1ms/step\n",
      "Epoch 18/40\n",
      "27/27 - 0s - loss: 0.5980 - accuracy: 0.7111 - val_loss: 0.5992 - val_accuracy: 0.7000 - 38ms/epoch - 1ms/step\n",
      "Epoch 19/40\n",
      "27/27 - 0s - loss: 0.5953 - accuracy: 0.7259 - val_loss: 0.5972 - val_accuracy: 0.7000 - 35ms/epoch - 1ms/step\n",
      "Epoch 20/40\n",
      "27/27 - 0s - loss: 0.5932 - accuracy: 0.7370 - val_loss: 0.5953 - val_accuracy: 0.7000 - 38ms/epoch - 1ms/step\n",
      "Epoch 21/40\n",
      "27/27 - 0s - loss: 0.5908 - accuracy: 0.7370 - val_loss: 0.5934 - val_accuracy: 0.7000 - 43ms/epoch - 2ms/step\n",
      "Epoch 22/40\n",
      "27/27 - 0s - loss: 0.5886 - accuracy: 0.7370 - val_loss: 0.5913 - val_accuracy: 0.7000 - 42ms/epoch - 2ms/step\n",
      "Epoch 23/40\n",
      "27/27 - 0s - loss: 0.5863 - accuracy: 0.7370 - val_loss: 0.5895 - val_accuracy: 0.7000 - 42ms/epoch - 2ms/step\n",
      "Epoch 24/40\n",
      "27/27 - 0s - loss: 0.5840 - accuracy: 0.7444 - val_loss: 0.5874 - val_accuracy: 0.7000 - 59ms/epoch - 2ms/step\n",
      "Epoch 25/40\n",
      "27/27 - 0s - loss: 0.5818 - accuracy: 0.7444 - val_loss: 0.5855 - val_accuracy: 0.7000 - 38ms/epoch - 1ms/step\n",
      "Epoch 26/40\n",
      "27/27 - 0s - loss: 0.5794 - accuracy: 0.7407 - val_loss: 0.5834 - val_accuracy: 0.7333 - 40ms/epoch - 1ms/step\n",
      "Epoch 27/40\n",
      "27/27 - 0s - loss: 0.5771 - accuracy: 0.7481 - val_loss: 0.5815 - val_accuracy: 0.7333 - 35ms/epoch - 1ms/step\n",
      "Epoch 28/40\n",
      "27/27 - 0s - loss: 0.5749 - accuracy: 0.7481 - val_loss: 0.5794 - val_accuracy: 0.7333 - 34ms/epoch - 1ms/step\n",
      "Epoch 29/40\n",
      "27/27 - 0s - loss: 0.5725 - accuracy: 0.7519 - val_loss: 0.5775 - val_accuracy: 0.7333 - 34ms/epoch - 1ms/step\n",
      "Epoch 30/40\n",
      "27/27 - 0s - loss: 0.5703 - accuracy: 0.7556 - val_loss: 0.5755 - val_accuracy: 0.7333 - 34ms/epoch - 1ms/step\n",
      "Epoch 31/40\n",
      "27/27 - 0s - loss: 0.5678 - accuracy: 0.7556 - val_loss: 0.5736 - val_accuracy: 0.7333 - 35ms/epoch - 1ms/step\n",
      "Epoch 32/40\n",
      "27/27 - 0s - loss: 0.5655 - accuracy: 0.7556 - val_loss: 0.5717 - val_accuracy: 0.7333 - 44ms/epoch - 2ms/step\n",
      "Epoch 33/40\n",
      "27/27 - 0s - loss: 0.5632 - accuracy: 0.7556 - val_loss: 0.5697 - val_accuracy: 0.7333 - 34ms/epoch - 1ms/step\n",
      "Epoch 34/40\n",
      "27/27 - 0s - loss: 0.5609 - accuracy: 0.7593 - val_loss: 0.5678 - val_accuracy: 0.7667 - 34ms/epoch - 1ms/step\n",
      "Epoch 35/40\n",
      "27/27 - 0s - loss: 0.5587 - accuracy: 0.7667 - val_loss: 0.5658 - val_accuracy: 0.7667 - 35ms/epoch - 1ms/step\n",
      "Epoch 36/40\n",
      "27/27 - 0s - loss: 0.5563 - accuracy: 0.7667 - val_loss: 0.5640 - val_accuracy: 0.7667 - 38ms/epoch - 1ms/step\n",
      "Epoch 37/40\n",
      "27/27 - 0s - loss: 0.5539 - accuracy: 0.7667 - val_loss: 0.5621 - val_accuracy: 0.7667 - 35ms/epoch - 1ms/step\n",
      "Epoch 38/40\n",
      "27/27 - 0s - loss: 0.5517 - accuracy: 0.7667 - val_loss: 0.5602 - val_accuracy: 0.7667 - 37ms/epoch - 1ms/step\n",
      "Epoch 39/40\n",
      "27/27 - 0s - loss: 0.5495 - accuracy: 0.7741 - val_loss: 0.5580 - val_accuracy: 0.8000 - 43ms/epoch - 2ms/step\n",
      "Epoch 40/40\n",
      "27/27 - 0s - loss: 0.5471 - accuracy: 0.7741 - val_loss: 0.5564 - val_accuracy: 0.8000 - 39ms/epoch - 1ms/step\n"
     ]
    },
    {
     "data": {
      "text/plain": [
       "<keras.src.callbacks.History at 0x7f76085edbd0>"
      ]
     },
     "execution_count": 7,
     "metadata": {},
     "output_type": "execute_result"
    }
   ],
   "source": [
    "Model.fit(x=train_sample_scaled, y=train_label,validation_split=0.1, batch_size=10, shuffle=True,epochs=40,verbose=2)"
   ]
  },
  {
   "cell_type": "markdown",
   "id": "cc625e95-ba65-40bc-8b4b-7af33ee5b89f",
   "metadata": {},
   "source": [
    "## Inferance/ Predicting the value\n",
    "\n",
    "- prepare the test data the same as train data"
   ]
  },
  {
   "cell_type": "code",
   "execution_count": 8,
   "id": "4c01e5f8-3b29-48e4-bf2f-4f9e3fdd0bc7",
   "metadata": {},
   "outputs": [],
   "source": [
    "#creating a list of \n",
    "test_label = [] #whether it's +ve or -ve\n",
    "test_sample = [] #age\n",
    "\n",
    "N = 1000 #total number of tests\n",
    "for i in range(N//10):\n",
    "    sample_age = np.random.randint(13, 100)\n",
    "    test_sample.append(sample_age)    \n",
    "    if sample_age<60:\n",
    "        rand = random()\n",
    "        if rand<0.1:\n",
    "            test_label.append(1)\n",
    "        else:\n",
    "            test_label.append(0)\n",
    "    elif sample_age>=60:\n",
    "        rand = random()\n",
    "        if rand<0.95:\n",
    "            test_label.append(1)\n",
    "        else:\n",
    "            test_label.append(0)\n",
    "\n",
    "test_label = np.array(test_label)\n",
    "test_sample = np.array(test_sample)\n",
    "\n",
    "# shuffle\n",
    "test_label, test_sample = shuffle(test_label, test_sample)\n",
    "\n",
    "#rescale the data\n",
    "scaler = MinMaxScaler(feature_range=(0,1))\n",
    "test_sample_scaled = scaler.fit_transform(test_sample.reshape(-1,1))"
   ]
  },
  {
   "cell_type": "code",
   "execution_count": 9,
   "id": "65061184-c55a-4939-b173-d853eb72b508",
   "metadata": {},
   "outputs": [],
   "source": [
    "predictions = Model.predict(x=test_sample_scaled,batch_size=10, verbose=0)"
   ]
  },
  {
   "cell_type": "code",
   "execution_count": 10,
   "id": "55208b5e-bf44-412f-979a-b3c029da04f4",
   "metadata": {},
   "outputs": [],
   "source": [
    "predictions = np.argmax(predictions, axis=-1)"
   ]
  },
  {
   "cell_type": "code",
   "execution_count": 11,
   "id": "f6e1d1d8-3cd8-4a66-bc7c-94a716ead095",
   "metadata": {},
   "outputs": [
    {
     "data": {
      "text/plain": [
       "array([0, 1, 1, 0, 1, 1, 1, 0, 0, 1, 0, 0, 0, 1, 0, 1, 1, 1, 1, 1, 1, 0,\n",
       "       1, 1, 0, 1, 0, 1, 1, 0, 0, 1, 1, 0, 0, 1, 0, 0, 0, 1, 1, 0, 0, 0,\n",
       "       1, 1, 0, 1, 0, 1, 1, 1, 1, 1, 1, 0, 1, 0, 1, 0, 1, 1, 1, 1, 0, 1,\n",
       "       0, 1, 0, 1, 1, 1, 0, 1, 1, 0, 1, 0, 0, 1, 1, 0, 1, 1, 1, 1, 0, 1,\n",
       "       1, 1, 0, 1, 1, 0, 0, 1, 0, 1, 1, 0])"
      ]
     },
     "execution_count": 11,
     "metadata": {},
     "output_type": "execute_result"
    }
   ],
   "source": [
    "predictions"
   ]
  },
  {
   "cell_type": "code",
   "execution_count": 12,
   "id": "2d40d919-23ce-48cb-af57-71949767ea28",
   "metadata": {},
   "outputs": [],
   "source": [
    "cm = confusion_matrix(y_true=test_label, y_pred=predictions)"
   ]
  },
  {
   "cell_type": "code",
   "execution_count": 13,
   "id": "e3a4a163-ae74-473a-9704-f44f2d52cf4c",
   "metadata": {},
   "outputs": [],
   "source": [
    "def plot_confusion_matrix(cm, classes,\n",
    "                        normalize=False,\n",
    "                        title='Confusion matrix',\n",
    "                        cmap=plt.cm.Blues):\n",
    "    \"\"\"\n",
    "    This function prints and plots the confusion matrix.\n",
    "    Normalization can be applied by setting `normalize=True`.\n",
    "    \"\"\"\n",
    "    plt.imshow(cm, interpolation='nearest', cmap=cmap)\n",
    "    plt.title(title)\n",
    "    plt.colorbar()\n",
    "    tick_marks = np.arange(len(classes))\n",
    "    plt.xticks(tick_marks, classes, rotation=45)\n",
    "    plt.yticks(tick_marks, classes)\n",
    "\n",
    "    if normalize:\n",
    "        cm = cm.astype('float') / cm.sum(axis=1)[:, np.newaxis]\n",
    "        print(\"Normalized confusion matrix\")\n",
    "    else:\n",
    "        print('Confusion matrix, without normalization')\n",
    "\n",
    "    print(cm)\n",
    "\n",
    "    thresh = cm.max() / 2.\n",
    "    for i, j in itertools.product(range(cm.shape[0]), range(cm.shape[1])):\n",
    "        plt.text(j, i, cm[i, j],\n",
    "            horizontalalignment=\"center\",\n",
    "            color=\"white\" if cm[i, j] > thresh else \"black\")\n",
    "\n",
    "    plt.tight_layout()\n",
    "    plt.ylabel('True label')\n",
    "    plt.xlabel('Predicted label')"
   ]
  },
  {
   "cell_type": "code",
   "execution_count": 14,
   "id": "f9c8ed8a-b2b2-42c0-8c4e-e29d56f3d080",
   "metadata": {},
   "outputs": [],
   "source": [
    "cm_plot_labels = ['postive','negative']"
   ]
  },
  {
   "cell_type": "code",
   "execution_count": 15,
   "id": "dfdeda57-c729-4fde-b9b2-63638ba58471",
   "metadata": {},
   "outputs": [
    {
     "name": "stdout",
     "output_type": "stream",
     "text": [
      "Confusion matrix, without normalization\n",
      "[[37 17]\n",
      " [ 3 43]]\n"
     ]
    },
    {
     "data": {
      "image/png": "[encoded data removed]",
      "text/plain": [
       "<Figure size 640x480 with 2 Axes>"
      ]
     },
     "metadata": {},
     "output_type": "display_data"
    }
   ],
   "source": [
    "plot_confusion_matrix(cm=cm, classes=cm_plot_labels, title='Confusion Matrix')"
   ]
  },
  {
   "cell_type": "code",
   "execution_count": null,
   "id": "cf48d934-6089-494e-93bd-abca619c6d05",
   "metadata": {},
   "outputs": [],
   "source": []
  }
 ],
 "metadata": {
  "kernelspec": {
   "display_name": "Python 3 (ipykernel)",
   "language": "python",
   "name": "python3"
  },
  "language_info": {
   "codemirror_mode": {
    "name": "ipython",
    "version": 3
   },
   "file_extension": ".py",
   "mimetype": "text/x-python",
   "name": "python",
   "nbconvert_exporter": "python",
   "pygments_lexer": "ipython3",
   "version": "3.10.9"
  }
 },
 "nbformat": 4,
 "nbformat_minor": 5
}
